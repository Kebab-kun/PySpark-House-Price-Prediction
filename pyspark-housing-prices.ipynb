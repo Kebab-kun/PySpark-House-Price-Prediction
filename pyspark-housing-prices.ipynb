{
 "cells": [
  {
   "cell_type": "code",
   "execution_count": 1,
   "id": "c2e37600",
   "metadata": {
    "_cell_guid": "b1076dfc-b9ad-4769-8c92-a6c4dae69d19",
    "_uuid": "8f2839f25d086af736a60e9eeb907d3b93b6e0e5",
    "execution": {
     "iopub.execute_input": "2024-04-02T18:32:17.790350Z",
     "iopub.status.busy": "2024-04-02T18:32:17.790018Z",
     "iopub.status.idle": "2024-04-02T18:33:01.743854Z",
     "shell.execute_reply": "2024-04-02T18:33:01.742168Z"
    },
    "papermill": {
     "duration": 43.965463,
     "end_time": "2024-04-02T18:33:01.746374",
     "exception": false,
     "start_time": "2024-04-02T18:32:17.780911",
     "status": "completed"
    },
    "tags": []
   },
   "outputs": [
    {
     "name": "stdout",
     "output_type": "stream",
     "text": [
      "Collecting pyspark\r\n",
      "  Downloading pyspark-3.5.1.tar.gz (317.0 MB)\r\n",
      "\u001b[2K     \u001b[90m━━━━━━━━━━━━━━━━━━━━━━━━━━━━━━━━━━━━━━━\u001b[0m \u001b[32m317.0/317.0 MB\u001b[0m \u001b[31m5.4 MB/s\u001b[0m eta \u001b[36m0:00:00\u001b[0m\r\n",
      "\u001b[?25h  Preparing metadata (setup.py) ... \u001b[?25l-\b \b\\\b \bdone\r\n",
      "\u001b[?25hRequirement already satisfied: py4j==0.10.9.7 in /opt/conda/lib/python3.10/site-packages (from pyspark) (0.10.9.7)\r\n",
      "Building wheels for collected packages: pyspark\r\n",
      "  Building wheel for pyspark (setup.py) ... \u001b[?25l-\b \b\\\b \b|\b \bdone\r\n",
      "\u001b[?25h  Created wheel for pyspark: filename=pyspark-3.5.1-py2.py3-none-any.whl size=317488493 sha256=5af33dba351769899745236be07860bff412637f793a565db600716c6e147fbe\r\n",
      "  Stored in directory: /root/.cache/pip/wheels/80/1d/60/2c256ed38dddce2fdd93be545214a63e02fbd8d74fb0b7f3a6\r\n",
      "Successfully built pyspark\r\n",
      "Installing collected packages: pyspark\r\n",
      "Successfully installed pyspark-3.5.1\r\n",
      "Note: you may need to restart the kernel to use updated packages.\n"
     ]
    }
   ],
   "source": [
    "%pip install pyspark"
   ]
  },
  {
   "cell_type": "code",
   "execution_count": 2,
   "id": "61178cc3",
   "metadata": {
    "execution": {
     "iopub.execute_input": "2024-04-02T18:33:01.773269Z",
     "iopub.status.busy": "2024-04-02T18:33:01.772310Z",
     "iopub.status.idle": "2024-04-02T18:33:02.849027Z",
     "shell.execute_reply": "2024-04-02T18:33:02.848196Z"
    },
    "papermill": {
     "duration": 1.092434,
     "end_time": "2024-04-02T18:33:02.851165",
     "exception": false,
     "start_time": "2024-04-02T18:33:01.758731",
     "status": "completed"
    },
    "tags": []
   },
   "outputs": [],
   "source": [
    "# Gerekli kütüphanelerin yüklenmesi\n",
    "from pyspark.sql import SparkSession\n",
    "from pyspark.sql.functions import col\n",
    "import pandas as pd\n",
    "import numpy as np"
   ]
  },
  {
   "cell_type": "code",
   "execution_count": 3,
   "id": "2348be33",
   "metadata": {
    "execution": {
     "iopub.execute_input": "2024-04-02T18:33:02.876953Z",
     "iopub.status.busy": "2024-04-02T18:33:02.876556Z",
     "iopub.status.idle": "2024-04-02T18:33:02.881506Z",
     "shell.execute_reply": "2024-04-02T18:33:02.880483Z"
    },
    "papermill": {
     "duration": 0.019894,
     "end_time": "2024-04-02T18:33:02.883183",
     "exception": false,
     "start_time": "2024-04-02T18:33:02.863289",
     "status": "completed"
    },
    "tags": []
   },
   "outputs": [],
   "source": [
    "from IPython.core.interactiveshell import InteractiveShell\n",
    "InteractiveShell.ast_node_interactivity = \"all\"\n",
    "\n",
    "pd.set_option('display.max_columns', 200)\n",
    "pd.set_option('display.max_colwidth', 400)"
   ]
  },
  {
   "cell_type": "code",
   "execution_count": 4,
   "id": "5784ec81",
   "metadata": {
    "execution": {
     "iopub.execute_input": "2024-04-02T18:33:02.910094Z",
     "iopub.status.busy": "2024-04-02T18:33:02.909808Z",
     "iopub.status.idle": "2024-04-02T18:33:13.920725Z",
     "shell.execute_reply": "2024-04-02T18:33:13.919830Z"
    },
    "papermill": {
     "duration": 11.028868,
     "end_time": "2024-04-02T18:33:13.925323",
     "exception": false,
     "start_time": "2024-04-02T18:33:02.896455",
     "status": "completed"
    },
    "tags": []
   },
   "outputs": [
    {
     "name": "stderr",
     "output_type": "stream",
     "text": [
      "Setting default log level to \"WARN\".\n",
      "To adjust logging level use sc.setLogLevel(newLevel). For SparkR, use setLogLevel(newLevel).\n",
      "24/04/02 18:33:06 WARN NativeCodeLoader: Unable to load native-hadoop library for your platform... using builtin-java classes where applicable\n"
     ]
    }
   ],
   "source": [
    "# Spark session başlatma\n",
    "spark = SparkSession.builder \\\n",
    "    .appName(\"California Housing Prices Regression\") \\\n",
    "    .config(\"spark.sql.debug.maxToStringFields\", 1000) \\\n",
    "    .getOrCreate()\n",
    "\n",
    "# Veri setini yükleme\n",
    "file_path = \"/kaggle/input/california-housing-prices/housing.csv\"\n",
    "housing_data = spark.read.csv(file_path, header=True, inferSchema=True)\n"
   ]
  },
  {
   "cell_type": "code",
   "execution_count": 5,
   "id": "79f47095",
   "metadata": {
    "execution": {
     "iopub.execute_input": "2024-04-02T18:33:13.961799Z",
     "iopub.status.busy": "2024-04-02T18:33:13.961248Z",
     "iopub.status.idle": "2024-04-02T18:33:13.973076Z",
     "shell.execute_reply": "2024-04-02T18:33:13.971891Z"
    },
    "papermill": {
     "duration": 0.031286,
     "end_time": "2024-04-02T18:33:13.975507",
     "exception": false,
     "start_time": "2024-04-02T18:33:13.944221",
     "status": "completed"
    },
    "tags": []
   },
   "outputs": [
    {
     "data": {
      "text/html": [
       "\n",
       "            <div>\n",
       "                <p><b>SparkSession - in-memory</b></p>\n",
       "                \n",
       "        <div>\n",
       "            <p><b>SparkContext</b></p>\n",
       "\n",
       "            <p><a href=\"http://379a6da33c28:4040\">Spark UI</a></p>\n",
       "\n",
       "            <dl>\n",
       "              <dt>Version</dt>\n",
       "                <dd><code>v3.5.1</code></dd>\n",
       "              <dt>Master</dt>\n",
       "                <dd><code>local[*]</code></dd>\n",
       "              <dt>AppName</dt>\n",
       "                <dd><code>California Housing Prices Regression</code></dd>\n",
       "            </dl>\n",
       "        </div>\n",
       "        \n",
       "            </div>\n",
       "        "
      ],
      "text/plain": [
       "<pyspark.sql.session.SparkSession at 0x7f940aa51e40>"
      ]
     },
     "execution_count": 5,
     "metadata": {},
     "output_type": "execute_result"
    }
   ],
   "source": [
    "spark"
   ]
  },
  {
   "cell_type": "code",
   "execution_count": 6,
   "id": "e49c47a7",
   "metadata": {
    "execution": {
     "iopub.execute_input": "2024-04-02T18:33:14.003482Z",
     "iopub.status.busy": "2024-04-02T18:33:14.002385Z",
     "iopub.status.idle": "2024-04-02T18:33:14.412378Z",
     "shell.execute_reply": "2024-04-02T18:33:14.411496Z"
    },
    "papermill": {
     "duration": 0.425965,
     "end_time": "2024-04-02T18:33:14.414521",
     "exception": false,
     "start_time": "2024-04-02T18:33:13.988556",
     "status": "completed"
    },
    "tags": []
   },
   "outputs": [
    {
     "name": "stdout",
     "output_type": "stream",
     "text": [
      "+---------+--------+------------------+-----------+--------------+----------+----------+-------------+------------------+---------------+\n",
      "|longitude|latitude|housing_median_age|total_rooms|total_bedrooms|population|households|median_income|median_house_value|ocean_proximity|\n",
      "+---------+--------+------------------+-----------+--------------+----------+----------+-------------+------------------+---------------+\n",
      "|  -122.23|   37.88|              41.0|      880.0|         129.0|     322.0|     126.0|       8.3252|          452600.0|       NEAR BAY|\n",
      "|  -122.22|   37.86|              21.0|     7099.0|        1106.0|    2401.0|    1138.0|       8.3014|          358500.0|       NEAR BAY|\n",
      "|  -122.24|   37.85|              52.0|     1467.0|         190.0|     496.0|     177.0|       7.2574|          352100.0|       NEAR BAY|\n",
      "|  -122.25|   37.85|              52.0|     1274.0|         235.0|     558.0|     219.0|       5.6431|          341300.0|       NEAR BAY|\n",
      "|  -122.25|   37.85|              52.0|     1627.0|         280.0|     565.0|     259.0|       3.8462|          342200.0|       NEAR BAY|\n",
      "+---------+--------+------------------+-----------+--------------+----------+----------+-------------+------------------+---------------+\n",
      "only showing top 5 rows\n",
      "\n"
     ]
    }
   ],
   "source": [
    "# Veri setinin ilk 5 satırını görüntüleme\n",
    "housing_data.show(5)\n"
   ]
  },
  {
   "cell_type": "code",
   "execution_count": 7,
   "id": "178121af",
   "metadata": {
    "execution": {
     "iopub.execute_input": "2024-04-02T18:33:14.442385Z",
     "iopub.status.busy": "2024-04-02T18:33:14.442030Z",
     "iopub.status.idle": "2024-04-02T18:33:17.403629Z",
     "shell.execute_reply": "2024-04-02T18:33:17.402747Z"
    },
    "papermill": {
     "duration": 2.978493,
     "end_time": "2024-04-02T18:33:17.406071",
     "exception": false,
     "start_time": "2024-04-02T18:33:14.427578",
     "status": "completed"
    },
    "tags": []
   },
   "outputs": [
    {
     "name": "stdout",
     "output_type": "stream",
     "text": [
      "Eksik Değer İçeren Sütunlar ve Sayıları:\n",
      "total_bedrooms :  207\n"
     ]
    }
   ],
   "source": [
    "# Eksik değerlerin kontrol edilmesi ve eksik değer içeren sütunların belirlenmesi\n",
    "missing_col = {}\n",
    "for col_name in housing_data.columns:\n",
    "    missing_count = housing_data.where(col(col_name).isNull()).count()\n",
    "    if missing_count > 0:\n",
    "        missing_col[col_name] = missing_count\n",
    "\n",
    "# Eksik değer içeren sütunların ve eksik değer sayılarının listelenmesi\n",
    "print(\"Eksik Değer İçeren Sütunlar ve Sayıları:\")\n",
    "for col_name, count in missing_col.items():\n",
    "    print(col_name, \": \", count)\n"
   ]
  },
  {
   "cell_type": "code",
   "execution_count": 8,
   "id": "99ae2d0f",
   "metadata": {
    "execution": {
     "iopub.execute_input": "2024-04-02T18:33:17.446448Z",
     "iopub.status.busy": "2024-04-02T18:33:17.445837Z",
     "iopub.status.idle": "2024-04-02T18:33:17.631690Z",
     "shell.execute_reply": "2024-04-02T18:33:17.630837Z"
    },
    "papermill": {
     "duration": 0.209444,
     "end_time": "2024-04-02T18:33:17.633834",
     "exception": false,
     "start_time": "2024-04-02T18:33:17.424390",
     "status": "completed"
    },
    "tags": []
   },
   "outputs": [
    {
     "name": "stdout",
     "output_type": "stream",
     "text": [
      "+---------+--------+------------------+-----------+--------------+----------+----------+-------------+------------------+---------------+\n",
      "|longitude|latitude|housing_median_age|total_rooms|total_bedrooms|population|households|median_income|median_house_value|ocean_proximity|\n",
      "+---------+--------+------------------+-----------+--------------+----------+----------+-------------+------------------+---------------+\n",
      "|  -122.16|   37.77|              47.0|     1256.0|          NULL|     570.0|     218.0|        4.375|          161900.0|       NEAR BAY|\n",
      "|  -122.17|   37.75|              38.0|      992.0|          NULL|     732.0|     259.0|       1.6196|           85100.0|       NEAR BAY|\n",
      "|  -122.28|   37.78|              29.0|     5154.0|          NULL|    3741.0|    1273.0|       2.5762|          173400.0|       NEAR BAY|\n",
      "|  -122.24|   37.75|              45.0|      891.0|          NULL|     384.0|     146.0|       4.9489|          247100.0|       NEAR BAY|\n",
      "|   -122.1|   37.69|              41.0|      746.0|          NULL|     387.0|     161.0|       3.9063|          178400.0|       NEAR BAY|\n",
      "+---------+--------+------------------+-----------+--------------+----------+----------+-------------+------------------+---------------+\n",
      "\n"
     ]
    }
   ],
   "source": [
    "# total_bedrooms sütunundaki eksik değerleri içeren satırların bulunması\n",
    "missing_bedrooms_rows = housing_data.where(col(\"total_bedrooms\").isNull()).limit(5)\n",
    "\n",
    "# Sonuçların görüntülenmesi\n",
    "missing_bedrooms_rows.show()"
   ]
  },
  {
   "cell_type": "code",
   "execution_count": 9,
   "id": "9affdd8b",
   "metadata": {
    "execution": {
     "iopub.execute_input": "2024-04-02T18:33:17.673173Z",
     "iopub.status.busy": "2024-04-02T18:33:17.672800Z",
     "iopub.status.idle": "2024-04-02T18:33:19.737062Z",
     "shell.execute_reply": "2024-04-02T18:33:19.736195Z"
    },
    "papermill": {
     "duration": 2.087376,
     "end_time": "2024-04-02T18:33:19.740588",
     "exception": false,
     "start_time": "2024-04-02T18:33:17.653212",
     "status": "completed"
    },
    "tags": []
   },
   "outputs": [
    {
     "name": "stderr",
     "output_type": "stream",
     "text": [
      "[Stage 34:>                                                         (0 + 1) / 1]\r"
     ]
    },
    {
     "name": "stdout",
     "output_type": "stream",
     "text": [
      "+-------+-------------------+-----------------+------------------+------------------+------------------+------------------+-----------------+------------------+------------------+---------------+\n",
      "|summary|          longitude|         latitude|housing_median_age|       total_rooms|    total_bedrooms|        population|       households|     median_income|median_house_value|ocean_proximity|\n",
      "+-------+-------------------+-----------------+------------------+------------------+------------------+------------------+-----------------+------------------+------------------+---------------+\n",
      "|  count|              20640|            20640|             20640|             20640|             20433|             20640|            20640|             20640|             20640|          20640|\n",
      "|   mean|-119.56970445736148| 35.6318614341087|28.639486434108527|2635.7630813953488| 537.8705525375618|1425.4767441860465|499.5396802325581|3.8706710029070246|206855.81690891474|           NULL|\n",
      "| stddev|  2.003531723502584|2.135952397457101| 12.58555761211163|2181.6152515827944|421.38507007403115|  1132.46212176534|382.3297528316098| 1.899821717945263|115395.61587441359|           NULL|\n",
      "|    min|            -124.35|            32.54|               1.0|               2.0|               1.0|               3.0|              1.0|            0.4999|           14999.0|      <1H OCEAN|\n",
      "|    max|            -114.31|            41.95|              52.0|           39320.0|            6445.0|           35682.0|           6082.0|           15.0001|          500001.0|     NEAR OCEAN|\n",
      "+-------+-------------------+-----------------+------------------+------------------+------------------+------------------+-----------------+------------------+------------------+---------------+\n",
      "\n"
     ]
    },
    {
     "name": "stderr",
     "output_type": "stream",
     "text": [
      "                                                                                \r"
     ]
    }
   ],
   "source": [
    "# Veri setinin istatistiksel özetini görüntüleme\n",
    "housing_data.describe().show()"
   ]
  },
  {
   "cell_type": "code",
   "execution_count": 10,
   "id": "71cec631",
   "metadata": {
    "execution": {
     "iopub.execute_input": "2024-04-02T18:33:19.777381Z",
     "iopub.status.busy": "2024-04-02T18:33:19.777086Z",
     "iopub.status.idle": "2024-04-02T18:33:19.784140Z",
     "shell.execute_reply": "2024-04-02T18:33:19.783105Z"
    },
    "papermill": {
     "duration": 0.027655,
     "end_time": "2024-04-02T18:33:19.786046",
     "exception": false,
     "start_time": "2024-04-02T18:33:19.758391",
     "status": "completed"
    },
    "tags": []
   },
   "outputs": [
    {
     "name": "stdout",
     "output_type": "stream",
     "text": [
      "root\n",
      " |-- longitude: double (nullable = true)\n",
      " |-- latitude: double (nullable = true)\n",
      " |-- housing_median_age: double (nullable = true)\n",
      " |-- total_rooms: double (nullable = true)\n",
      " |-- total_bedrooms: double (nullable = true)\n",
      " |-- population: double (nullable = true)\n",
      " |-- households: double (nullable = true)\n",
      " |-- median_income: double (nullable = true)\n",
      " |-- median_house_value: double (nullable = true)\n",
      " |-- ocean_proximity: string (nullable = true)\n",
      "\n"
     ]
    }
   ],
   "source": [
    "# Veri setinin şemasını kontrol etme\n",
    "housing_data.printSchema()"
   ]
  },
  {
   "cell_type": "code",
   "execution_count": 11,
   "id": "39800043",
   "metadata": {
    "execution": {
     "iopub.execute_input": "2024-04-02T18:33:19.823807Z",
     "iopub.status.busy": "2024-04-02T18:33:19.823154Z",
     "iopub.status.idle": "2024-04-02T18:33:20.392575Z",
     "shell.execute_reply": "2024-04-02T18:33:20.391800Z"
    },
    "papermill": {
     "duration": 0.591122,
     "end_time": "2024-04-02T18:33:20.394850",
     "exception": false,
     "start_time": "2024-04-02T18:33:19.803728",
     "status": "completed"
    },
    "tags": []
   },
   "outputs": [
    {
     "name": "stdout",
     "output_type": "stream",
     "text": [
      "+---------------+-----+\n",
      "|ocean_proximity|count|\n",
      "+---------------+-----+\n",
      "|      <1H OCEAN| 9136|\n",
      "|         INLAND| 6551|\n",
      "|     NEAR OCEAN| 2658|\n",
      "|       NEAR BAY| 2290|\n",
      "|         ISLAND|    5|\n",
      "+---------------+-----+\n",
      "\n"
     ]
    }
   ],
   "source": [
    "# ocean_proximity sütunundaki benzersiz değerlerin ve sayılarının bulunması\n",
    "unique_values_counts = housing_data.groupBy(\"ocean_proximity\").count().orderBy(\"count\", ascending=False)\n",
    "\n",
    "# Sonuçları görüntüleme\n",
    "unique_values_counts.show()"
   ]
  },
  {
   "cell_type": "code",
   "execution_count": 12,
   "id": "25feabfc",
   "metadata": {
    "execution": {
     "iopub.execute_input": "2024-04-02T18:33:20.430936Z",
     "iopub.status.busy": "2024-04-02T18:33:20.430642Z",
     "iopub.status.idle": "2024-04-02T18:33:20.442990Z",
     "shell.execute_reply": "2024-04-02T18:33:20.442122Z"
    },
    "papermill": {
     "duration": 0.029705,
     "end_time": "2024-04-02T18:33:20.444956",
     "exception": false,
     "start_time": "2024-04-02T18:33:20.415251",
     "status": "completed"
    },
    "tags": []
   },
   "outputs": [],
   "source": [
    "housing_data = housing_data.drop(\"longitude\", \"latitude\")"
   ]
  },
  {
   "cell_type": "code",
   "execution_count": 13,
   "id": "ab97b7ca",
   "metadata": {
    "execution": {
     "iopub.execute_input": "2024-04-02T18:33:20.472475Z",
     "iopub.status.busy": "2024-04-02T18:33:20.472148Z",
     "iopub.status.idle": "2024-04-02T18:33:20.495791Z",
     "shell.execute_reply": "2024-04-02T18:33:20.494748Z"
    },
    "papermill": {
     "duration": 0.039912,
     "end_time": "2024-04-02T18:33:20.498210",
     "exception": false,
     "start_time": "2024-04-02T18:33:20.458298",
     "status": "completed"
    },
    "tags": []
   },
   "outputs": [],
   "source": [
    "# Adjust the values of `medianHouseValue`\n",
    "housing_data = housing_data.withColumn(\"median_house_value\", col(\"median_house_value\")/100000)"
   ]
  },
  {
   "cell_type": "code",
   "execution_count": 14,
   "id": "5656fd29",
   "metadata": {
    "execution": {
     "iopub.execute_input": "2024-04-02T18:33:20.526027Z",
     "iopub.status.busy": "2024-04-02T18:33:20.525738Z",
     "iopub.status.idle": "2024-04-02T18:33:21.346268Z",
     "shell.execute_reply": "2024-04-02T18:33:21.345508Z"
    },
    "papermill": {
     "duration": 0.836927,
     "end_time": "2024-04-02T18:33:21.348601",
     "exception": false,
     "start_time": "2024-04-02T18:33:20.511674",
     "status": "completed"
    },
    "tags": []
   },
   "outputs": [
    {
     "name": "stdout",
     "output_type": "stream",
     "text": [
      "Training Rows: 14491  Testing Rows: 6149\n"
     ]
    }
   ],
   "source": [
    "splits = housing_data.randomSplit([0.7, 0.3])\n",
    "train = splits[0]\n",
    "test = splits[1]\n",
    "train_rows = train.count()\n",
    "test_rows = test.count()\n",
    "print(\"Training Rows:\", train_rows, \" Testing Rows:\", test_rows)\n"
   ]
  },
  {
   "cell_type": "code",
   "execution_count": 15,
   "id": "0225ead7",
   "metadata": {
    "execution": {
     "iopub.execute_input": "2024-04-02T18:33:21.385303Z",
     "iopub.status.busy": "2024-04-02T18:33:21.384949Z",
     "iopub.status.idle": "2024-04-02T18:33:21.391188Z",
     "shell.execute_reply": "2024-04-02T18:33:21.390301Z"
    },
    "papermill": {
     "duration": 0.026859,
     "end_time": "2024-04-02T18:33:21.393171",
     "exception": false,
     "start_time": "2024-04-02T18:33:21.366312",
     "status": "completed"
    },
    "tags": []
   },
   "outputs": [],
   "source": [
    "# Tüm numerik sütunların seçilmesi\n",
    "numeric_columns = [col for col, dtype in housing_data.dtypes if dtype != \"string\"]"
   ]
  },
  {
   "cell_type": "code",
   "execution_count": 16,
   "id": "841418da",
   "metadata": {
    "execution": {
     "iopub.execute_input": "2024-04-02T18:33:21.430731Z",
     "iopub.status.busy": "2024-04-02T18:33:21.430333Z",
     "iopub.status.idle": "2024-04-02T18:33:21.436567Z",
     "shell.execute_reply": "2024-04-02T18:33:21.435713Z"
    },
    "papermill": {
     "duration": 0.027917,
     "end_time": "2024-04-02T18:33:21.438814",
     "exception": false,
     "start_time": "2024-04-02T18:33:21.410897",
     "status": "completed"
    },
    "tags": []
   },
   "outputs": [
    {
     "data": {
      "text/plain": [
       "['housing_median_age',\n",
       " 'total_rooms',\n",
       " 'total_bedrooms',\n",
       " 'population',\n",
       " 'households',\n",
       " 'median_income',\n",
       " 'median_house_value']"
      ]
     },
     "execution_count": 16,
     "metadata": {},
     "output_type": "execute_result"
    }
   ],
   "source": [
    "numeric_columns"
   ]
  },
  {
   "cell_type": "code",
   "execution_count": 17,
   "id": "16122eb0",
   "metadata": {
    "execution": {
     "iopub.execute_input": "2024-04-02T18:33:21.467934Z",
     "iopub.status.busy": "2024-04-02T18:33:21.466507Z",
     "iopub.status.idle": "2024-04-02T18:33:21.474130Z",
     "shell.execute_reply": "2024-04-02T18:33:21.473498Z"
    },
    "papermill": {
     "duration": 0.024041,
     "end_time": "2024-04-02T18:33:21.476405",
     "exception": false,
     "start_time": "2024-04-02T18:33:21.452364",
     "status": "completed"
    },
    "tags": []
   },
   "outputs": [
    {
     "name": "stdout",
     "output_type": "stream",
     "text": [
      "Categorical Columns:\n",
      "ocean_proximity\n"
     ]
    }
   ],
   "source": [
    "# Get the columns and their data types\n",
    "column_types = train.dtypes\n",
    "\n",
    "# Identify categorical columns\n",
    "categorical_columns = [col_name for col_name, col_type in column_types if col_type == 'string']\n",
    "\n",
    "# Print the categorical columns\n",
    "print(\"Categorical Columns:\")\n",
    "for col_name in categorical_columns:\n",
    "    print(col_name)\n"
   ]
  },
  {
   "cell_type": "code",
   "execution_count": 18,
   "id": "9b0f57fb",
   "metadata": {
    "execution": {
     "iopub.execute_input": "2024-04-02T18:33:21.506346Z",
     "iopub.status.busy": "2024-04-02T18:33:21.505786Z",
     "iopub.status.idle": "2024-04-02T18:33:24.450801Z",
     "shell.execute_reply": "2024-04-02T18:33:24.449995Z"
    },
    "papermill": {
     "duration": 2.962706,
     "end_time": "2024-04-02T18:33:24.453474",
     "exception": false,
     "start_time": "2024-04-02T18:33:21.490768",
     "status": "completed"
    },
    "tags": []
   },
   "outputs": [
    {
     "name": "stderr",
     "output_type": "stream",
     "text": [
      "                                                                                \r"
     ]
    },
    {
     "name": "stdout",
     "output_type": "stream",
     "text": [
      "+------------------+-----------+--------------+----------+----------+-------------+------------------+-----------------------+--------------------+--------------------+\n",
      "|housing_median_age|total_rooms|total_bedrooms|population|households|median_income|median_house_value|ocean_proximity_encoded|            features|     scaled_features|\n",
      "+------------------+-----------+--------------+----------+----------+-------------+------------------+-----------------------+--------------------+--------------------+\n",
      "|               1.0|        6.0|           2.0|       8.0|       2.0|         1.63|              0.55|                    1.0|[1.0,6.0,2.0,8.0,...|[-2.1913305612386...|\n",
      "|               1.0|     2062.0|         343.0|     872.0|     268.0|         5.26|              1.91|                    1.0|[1.0,2062.0,343.0...|[-2.1913305612386...|\n",
      "|               1.0|     2254.0|         328.0|     402.0|     112.0|         4.25|              1.89|                    1.0|[1.0,2254.0,328.0...|[-2.1913305612386...|\n",
      "|               2.0|       96.0|          18.0|      30.0|      16.0|         5.34|              0.48|                    1.0|[2.0,96.0,18.0,30...|[-2.1118997007732...|\n",
      "|               2.0|      200.0|          20.0|      25.0|       9.0|         15.0|               3.5|                    0.0|[2.0,200.0,20.0,2...|[-2.1118997007732...|\n",
      "+------------------+-----------+--------------+----------+----------+-------------+------------------+-----------------------+--------------------+--------------------+\n",
      "only showing top 5 rows\n",
      "\n"
     ]
    }
   ],
   "source": [
    "from pyspark.ml import Pipeline\n",
    "from pyspark.ml.feature import StringIndexer, VectorAssembler, StandardScaler\n",
    "from pyspark.sql.functions import col, round\n",
    "\n",
    "# Eksik değerleri içeren satırların droplanması ve sayısal sütunların yuvarlanması\n",
    "train = train.na.drop()\n",
    "for numeric_col in numeric_columns:\n",
    "    train = train.withColumn(numeric_col, round(col(numeric_col), 2))\n",
    "\n",
    "# Pipeline'in bileşenlerini tanımlama\n",
    "encoding = [StringIndexer(inputCol=col, outputCol=col+\"_encoded\", handleInvalid=\"keep\") for col in categorical_columns]\n",
    "\n",
    "# VectorAssembler kullanarak tüm sütunları birleştirme\n",
    "assembler_inputs = numeric_columns + [col + \"_encoded\" for col in categorical_columns]\n",
    "assembler = VectorAssembler(inputCols=assembler_inputs, outputCol=\"features\")\n",
    "\n",
    "# StandardScaler ile sayısal sütunları ölçeklendirme\n",
    "scaler = StandardScaler(inputCol=\"features\", outputCol=\"scaled_features\", withStd=True, withMean=True)\n",
    "\n",
    "# Pipeline oluşturma\n",
    "pipeline = Pipeline(stages=encoding + [assembler, scaler])\n",
    "\n",
    "# Pipeline'i kullanarak train veri setini dönüştürme\n",
    "transformed_train = pipeline.fit(train).transform(train)\n",
    "\n",
    "# Kategorik sütunları çıkar\n",
    "transformed_train = transformed_train.drop(*categorical_columns)\n",
    "\n",
    "# İlk 5 satırı gösterme\n",
    "transformed_train.show(5)\n"
   ]
  },
  {
   "cell_type": "code",
   "execution_count": 19,
   "id": "c3acd146",
   "metadata": {
    "execution": {
     "iopub.execute_input": "2024-04-02T18:33:24.495307Z",
     "iopub.status.busy": "2024-04-02T18:33:24.494886Z",
     "iopub.status.idle": "2024-04-02T18:33:24.507218Z",
     "shell.execute_reply": "2024-04-02T18:33:24.506403Z"
    },
    "papermill": {
     "duration": 0.036988,
     "end_time": "2024-04-02T18:33:24.509650",
     "exception": false,
     "start_time": "2024-04-02T18:33:24.472662",
     "status": "completed"
    },
    "tags": []
   },
   "outputs": [
    {
     "data": {
      "text/plain": [
       "['housing_median_age',\n",
       " 'total_rooms',\n",
       " 'total_bedrooms',\n",
       " 'population',\n",
       " 'households',\n",
       " 'median_income',\n",
       " 'median_house_value',\n",
       " 'ocean_proximity_encoded',\n",
       " 'features',\n",
       " 'scaled_features']"
      ]
     },
     "execution_count": 19,
     "metadata": {},
     "output_type": "execute_result"
    }
   ],
   "source": [
    "transformed_train.columns"
   ]
  },
  {
   "cell_type": "code",
   "execution_count": 20,
   "id": "49d19c54",
   "metadata": {
    "execution": {
     "iopub.execute_input": "2024-04-02T18:33:24.540617Z",
     "iopub.status.busy": "2024-04-02T18:33:24.539941Z",
     "iopub.status.idle": "2024-04-02T18:33:26.041037Z",
     "shell.execute_reply": "2024-04-02T18:33:26.040246Z"
    },
    "papermill": {
     "duration": 1.519954,
     "end_time": "2024-04-02T18:33:26.043117",
     "exception": false,
     "start_time": "2024-04-02T18:33:24.523163",
     "status": "completed"
    },
    "tags": []
   },
   "outputs": [
    {
     "name": "stdout",
     "output_type": "stream",
     "text": [
      "+------------------+-----------+--------------+----------+----------+-------------+------------------+-----------------------+--------------------+--------------------+\n",
      "|housing_median_age|total_rooms|total_bedrooms|population|households|median_income|median_house_value|ocean_proximity_encoded|            features|     scaled_features|\n",
      "+------------------+-----------+--------------+----------+----------+-------------+------------------+-----------------------+--------------------+--------------------+\n",
      "|               1.0|       83.0|          15.0|      32.0|      15.0|         4.88|              1.42|                    1.0|[1.0,83.0,15.0,32...|[-2.2019973910281...|\n",
      "|               2.0|      158.0|          43.0|      94.0|      57.0|         2.56|               0.6|                    3.0|[2.0,158.0,43.0,9...|[-2.1226164094574...|\n",
      "|               2.0|      337.0|          55.0|     115.0|      49.0|          3.1|              1.65|                    1.0|[2.0,337.0,55.0,1...|[-2.1226164094574...|\n",
      "|               2.0|      556.0|          63.0|     179.0|      54.0|         8.44|               5.0|                    0.0|[2.0,556.0,63.0,1...|[-2.1226164094574...|\n",
      "|               2.0|      647.0|         136.0|     203.0|     118.0|         6.64|               3.1|                    3.0|[2.0,647.0,136.0,...|[-2.1226164094574...|\n",
      "+------------------+-----------+--------------+----------+----------+-------------+------------------+-----------------------+--------------------+--------------------+\n",
      "only showing top 5 rows\n",
      "\n"
     ]
    }
   ],
   "source": [
    "# Eksik değerleri içeren satırların droplanması ve sayısal sütunların yuvarlanması\n",
    "test = test.na.drop()\n",
    "for numeric_col in numeric_columns:\n",
    "    test = test.withColumn(numeric_col, round(col(numeric_col), 2))\n",
    "\n",
    "# Pipeline'i kullanarak test veri setini dönüştürme\n",
    "transformed_test = pipeline.fit(test).transform(test)\n",
    "\n",
    "# Kategorik sütunları çıkar\n",
    "transformed_test = transformed_test.drop(*categorical_columns)\n",
    "\n",
    "# İlk 5 satırı gösterme\n",
    "transformed_test.show(5)\n"
   ]
  },
  {
   "cell_type": "code",
   "execution_count": 21,
   "id": "d22a401a",
   "metadata": {
    "execution": {
     "iopub.execute_input": "2024-04-02T18:33:26.070796Z",
     "iopub.status.busy": "2024-04-02T18:33:26.070467Z",
     "iopub.status.idle": "2024-04-02T18:33:26.074201Z",
     "shell.execute_reply": "2024-04-02T18:33:26.073443Z"
    },
    "papermill": {
     "duration": 0.019242,
     "end_time": "2024-04-02T18:33:26.075773",
     "exception": false,
     "start_time": "2024-04-02T18:33:26.056531",
     "status": "completed"
    },
    "tags": []
   },
   "outputs": [],
   "source": [
    "cols = [\"housing_median_age\",\"total_rooms\",\"total_bedrooms\",\"population\",\"households\",\"median_income\",\n",
    "                        \"median_house_value\",\"ocean_proximity_encoded\"]"
   ]
  },
  {
   "cell_type": "code",
   "execution_count": 22,
   "id": "06d55e29",
   "metadata": {
    "execution": {
     "iopub.execute_input": "2024-04-02T18:33:26.162365Z",
     "iopub.status.busy": "2024-04-02T18:33:26.162073Z",
     "iopub.status.idle": "2024-04-02T18:33:26.171581Z",
     "shell.execute_reply": "2024-04-02T18:33:26.170147Z"
    },
    "papermill": {
     "duration": 0.08418,
     "end_time": "2024-04-02T18:33:26.174209",
     "exception": false,
     "start_time": "2024-04-02T18:33:26.090029",
     "status": "completed"
    },
    "tags": []
   },
   "outputs": [],
   "source": [
    "from pyspark.ml.regression import LinearRegression\n",
    "from pyspark.mllib.evaluation import RegressionMetrics\n",
    "\n",
    "from pyspark.ml.tuning import ParamGridBuilder, CrossValidator, CrossValidatorModel\n",
    "from pyspark.ml.feature import VectorAssembler, StandardScaler\n",
    "from pyspark.ml.evaluation import RegressionEvaluator"
   ]
  },
  {
   "cell_type": "code",
   "execution_count": 23,
   "id": "01143e8d",
   "metadata": {
    "execution": {
     "iopub.execute_input": "2024-04-02T18:33:26.205635Z",
     "iopub.status.busy": "2024-04-02T18:33:26.204166Z",
     "iopub.status.idle": "2024-04-02T18:33:26.248942Z",
     "shell.execute_reply": "2024-04-02T18:33:26.247764Z"
    },
    "papermill": {
     "duration": 0.062681,
     "end_time": "2024-04-02T18:33:26.251162",
     "exception": false,
     "start_time": "2024-04-02T18:33:26.188481",
     "status": "completed"
    },
    "tags": []
   },
   "outputs": [],
   "source": [
    "# LinearRegression modeli oluşturma\n",
    "lr = LinearRegression(featuresCol='scaled_features', labelCol=\"median_house_value\", predictionCol='pred')"
   ]
  },
  {
   "cell_type": "code",
   "execution_count": 24,
   "id": "74804cd6",
   "metadata": {
    "execution": {
     "iopub.execute_input": "2024-04-02T18:33:26.281521Z",
     "iopub.status.busy": "2024-04-02T18:33:26.280865Z",
     "iopub.status.idle": "2024-04-02T18:33:26.296003Z",
     "shell.execute_reply": "2024-04-02T18:33:26.295054Z"
    },
    "papermill": {
     "duration": 0.03302,
     "end_time": "2024-04-02T18:33:26.298308",
     "exception": false,
     "start_time": "2024-04-02T18:33:26.265288",
     "status": "completed"
    },
    "tags": []
   },
   "outputs": [],
   "source": [
    "# Parametre gridini belirleme\n",
    "paramGrid = (ParamGridBuilder()\n",
    "             .addGrid(lr.maxIter, [5, 10, 20])\n",
    "             .addGrid(lr.regParam, [0.1, 0.3, 0.5])\n",
    "             .addGrid(lr.elasticNetParam, [0.0, 0.5, 1.0])\n",
    "             .build())\n",
    "\n",
    "# CrossValidator oluşturma\n",
    "evaluator = RegressionEvaluator(labelCol=\"median_house_value\", predictionCol=\"pred\", metricName=\"rmse\")\n",
    "crossval = CrossValidator(estimator=lr,\n",
    "                          estimatorParamMaps=paramGrid,\n",
    "                          evaluator=evaluator,\n",
    "                          numFolds=3)\n",
    "\n"
   ]
  },
  {
   "cell_type": "code",
   "execution_count": 25,
   "id": "b897dc79",
   "metadata": {
    "execution": {
     "iopub.execute_input": "2024-04-02T18:33:26.328820Z",
     "iopub.status.busy": "2024-04-02T18:33:26.328210Z",
     "iopub.status.idle": "2024-04-02T18:33:56.887703Z",
     "shell.execute_reply": "2024-04-02T18:33:56.886710Z"
    },
    "papermill": {
     "duration": 30.577131,
     "end_time": "2024-04-02T18:33:56.889975",
     "exception": false,
     "start_time": "2024-04-02T18:33:26.312844",
     "status": "completed"
    },
    "tags": []
   },
   "outputs": [
    {
     "name": "stderr",
     "output_type": "stream",
     "text": [
      "24/04/02 18:33:27 WARN InstanceBuilder: Failed to load implementation from:dev.ludovic.netlib.blas.JNIBLAS\n",
      "24/04/02 18:33:27 WARN InstanceBuilder: Failed to load implementation from:dev.ludovic.netlib.lapack.JNILAPACK\n"
     ]
    }
   ],
   "source": [
    "# Modeli eğitme\n",
    "cvModel = crossval.fit(transformed_train)"
   ]
  },
  {
   "cell_type": "code",
   "execution_count": 26,
   "id": "2733acef",
   "metadata": {
    "execution": {
     "iopub.execute_input": "2024-04-02T18:33:56.920282Z",
     "iopub.status.busy": "2024-04-02T18:33:56.919745Z",
     "iopub.status.idle": "2024-04-02T18:33:57.248824Z",
     "shell.execute_reply": "2024-04-02T18:33:57.247732Z"
    },
    "papermill": {
     "duration": 0.346156,
     "end_time": "2024-04-02T18:33:57.250788",
     "exception": false,
     "start_time": "2024-04-02T18:33:56.904632",
     "status": "completed"
    },
    "tags": []
   },
   "outputs": [
    {
     "name": "stdout",
     "output_type": "stream",
     "text": [
      "Best Model RMSE: 0.10961378476421202\n"
     ]
    }
   ],
   "source": [
    "# En iyi modeli seçme\n",
    "bestModel = cvModel.bestModel\n",
    "\n",
    "# En iyi modelin performansını değerlendirme\n",
    "predictions = bestModel.transform(transformed_test)\n",
    "rmse = evaluator.evaluate(predictions)\n",
    "\n",
    "# RMSE değerini yazdırma\n",
    "print(\"Best Model RMSE:\", rmse)"
   ]
  },
  {
   "cell_type": "code",
   "execution_count": 27,
   "id": "5fb8009d",
   "metadata": {
    "execution": {
     "iopub.execute_input": "2024-04-02T18:33:57.280640Z",
     "iopub.status.busy": "2024-04-02T18:33:57.280283Z",
     "iopub.status.idle": "2024-04-02T18:33:57.306338Z",
     "shell.execute_reply": "2024-04-02T18:33:57.305504Z"
    },
    "papermill": {
     "duration": 0.043109,
     "end_time": "2024-04-02T18:33:57.308007",
     "exception": false,
     "start_time": "2024-04-02T18:33:57.264898",
     "status": "completed"
    },
    "tags": []
   },
   "outputs": [
    {
     "data": {
      "text/plain": [
       "DenseVector([0.0, 0.0, 0.0, 0.0, 0.0, 0.0283, 1.0367, 0.0])"
      ]
     },
     "execution_count": 27,
     "metadata": {},
     "output_type": "execute_result"
    }
   ],
   "source": [
    "# Coefficients for the model\n",
    "bestModel.coefficients"
   ]
  },
  {
   "cell_type": "code",
   "execution_count": 28,
   "id": "ba70530a",
   "metadata": {
    "execution": {
     "iopub.execute_input": "2024-04-02T18:33:57.336857Z",
     "iopub.status.busy": "2024-04-02T18:33:57.336352Z",
     "iopub.status.idle": "2024-04-02T18:33:57.342468Z",
     "shell.execute_reply": "2024-04-02T18:33:57.341678Z"
    },
    "papermill": {
     "duration": 0.022586,
     "end_time": "2024-04-02T18:33:57.344161",
     "exception": false,
     "start_time": "2024-04-02T18:33:57.321575",
     "status": "completed"
    },
    "tags": []
   },
   "outputs": [
    {
     "data": {
      "text/plain": [
       "2.062355360379198"
      ]
     },
     "execution_count": 28,
     "metadata": {},
     "output_type": "execute_result"
    }
   ],
   "source": [
    "# Intercept for the model\n",
    "bestModel.intercept"
   ]
  },
  {
   "cell_type": "code",
   "execution_count": 29,
   "id": "8eafcf0a",
   "metadata": {
    "execution": {
     "iopub.execute_input": "2024-04-02T18:33:57.376085Z",
     "iopub.status.busy": "2024-04-02T18:33:57.375380Z",
     "iopub.status.idle": "2024-04-02T18:33:57.397564Z",
     "shell.execute_reply": "2024-04-02T18:33:57.396242Z"
    },
    "papermill": {
     "duration": 0.04183,
     "end_time": "2024-04-02T18:33:57.400243",
     "exception": false,
     "start_time": "2024-04-02T18:33:57.358413",
     "status": "completed"
    },
    "tags": []
   },
   "outputs": [],
   "source": [
    "coeff_df = pd.DataFrame({\"Feature\": [\"Intercept\"] + cols, \"Co-efficients\": np.insert(bestModel.coefficients.toArray(), 0, bestModel.intercept)})\n",
    "coeff_df = coeff_df[[\"Feature\", \"Co-efficients\"]]"
   ]
  },
  {
   "cell_type": "code",
   "execution_count": 30,
   "id": "697bf64c",
   "metadata": {
    "execution": {
     "iopub.execute_input": "2024-04-02T18:33:57.430670Z",
     "iopub.status.busy": "2024-04-02T18:33:57.430310Z",
     "iopub.status.idle": "2024-04-02T18:33:57.446010Z",
     "shell.execute_reply": "2024-04-02T18:33:57.444608Z"
    },
    "papermill": {
     "duration": 0.033676,
     "end_time": "2024-04-02T18:33:57.448280",
     "exception": false,
     "start_time": "2024-04-02T18:33:57.414604",
     "status": "completed"
    },
    "tags": []
   },
   "outputs": [
    {
     "data": {
      "text/html": [
       "<div>\n",
       "<style scoped>\n",
       "    .dataframe tbody tr th:only-of-type {\n",
       "        vertical-align: middle;\n",
       "    }\n",
       "\n",
       "    .dataframe tbody tr th {\n",
       "        vertical-align: top;\n",
       "    }\n",
       "\n",
       "    .dataframe thead th {\n",
       "        text-align: right;\n",
       "    }\n",
       "</style>\n",
       "<table border=\"1\" class=\"dataframe\">\n",
       "  <thead>\n",
       "    <tr style=\"text-align: right;\">\n",
       "      <th></th>\n",
       "      <th>Feature</th>\n",
       "      <th>Co-efficients</th>\n",
       "    </tr>\n",
       "  </thead>\n",
       "  <tbody>\n",
       "    <tr>\n",
       "      <th>0</th>\n",
       "      <td>Intercept</td>\n",
       "      <td>2.062355</td>\n",
       "    </tr>\n",
       "    <tr>\n",
       "      <th>1</th>\n",
       "      <td>housing_median_age</td>\n",
       "      <td>0.000000</td>\n",
       "    </tr>\n",
       "    <tr>\n",
       "      <th>2</th>\n",
       "      <td>total_rooms</td>\n",
       "      <td>0.000000</td>\n",
       "    </tr>\n",
       "    <tr>\n",
       "      <th>3</th>\n",
       "      <td>total_bedrooms</td>\n",
       "      <td>0.000000</td>\n",
       "    </tr>\n",
       "    <tr>\n",
       "      <th>4</th>\n",
       "      <td>population</td>\n",
       "      <td>0.000000</td>\n",
       "    </tr>\n",
       "    <tr>\n",
       "      <th>5</th>\n",
       "      <td>households</td>\n",
       "      <td>0.000000</td>\n",
       "    </tr>\n",
       "    <tr>\n",
       "      <th>6</th>\n",
       "      <td>median_income</td>\n",
       "      <td>0.028251</td>\n",
       "    </tr>\n",
       "    <tr>\n",
       "      <th>7</th>\n",
       "      <td>median_house_value</td>\n",
       "      <td>1.036718</td>\n",
       "    </tr>\n",
       "    <tr>\n",
       "      <th>8</th>\n",
       "      <td>ocean_proximity_encoded</td>\n",
       "      <td>0.000000</td>\n",
       "    </tr>\n",
       "  </tbody>\n",
       "</table>\n",
       "</div>"
      ],
      "text/plain": [
       "                   Feature  Co-efficients\n",
       "0                Intercept       2.062355\n",
       "1       housing_median_age       0.000000\n",
       "2              total_rooms       0.000000\n",
       "3           total_bedrooms       0.000000\n",
       "4               population       0.000000\n",
       "5               households       0.000000\n",
       "6            median_income       0.028251\n",
       "7       median_house_value       1.036718\n",
       "8  ocean_proximity_encoded       0.000000"
      ]
     },
     "execution_count": 30,
     "metadata": {},
     "output_type": "execute_result"
    }
   ],
   "source": [
    "coeff_df\n"
   ]
  },
  {
   "cell_type": "code",
   "execution_count": 31,
   "id": "edebca9b",
   "metadata": {
    "execution": {
     "iopub.execute_input": "2024-04-02T18:33:57.482575Z",
     "iopub.status.busy": "2024-04-02T18:33:57.481403Z",
     "iopub.status.idle": "2024-04-02T18:33:57.709665Z",
     "shell.execute_reply": "2024-04-02T18:33:57.708662Z"
    },
    "papermill": {
     "duration": 0.249709,
     "end_time": "2024-04-02T18:33:57.711880",
     "exception": false,
     "start_time": "2024-04-02T18:33:57.462171",
     "status": "completed"
    },
    "tags": []
   },
   "outputs": [
    {
     "name": "stdout",
     "output_type": "stream",
     "text": [
      "+------------------+------------------+\n",
      "|              pred|median_house_value|\n",
      "+------------------+------------------+\n",
      "|1.4829385400681017|              1.42|\n",
      "|0.7164971003554286|               0.6|\n",
      "|1.6620840254621196|              1.65|\n",
      "| 4.732277755293927|               5.0|\n",
      "| 3.009085768376122|               3.1|\n",
      "|3.0162919154454833|              3.15|\n",
      "| 4.190413069046512|               4.5|\n",
      "|2.9151331724669527|              2.99|\n",
      "|1.8900230045330464|              1.88|\n",
      "|1.9904390857205623|              1.97|\n",
      "|2.1886631432711785|              2.19|\n",
      "|3.1884183839772042|               3.3|\n",
      "|1.1892480450928162|              1.12|\n",
      "|1.4935748894318142|              1.44|\n",
      "|  1.84933159112136|              1.81|\n",
      "| 4.756895620683787|               5.0|\n",
      "| 2.192665936092713|              2.21|\n",
      "|1.5582945187629456|              1.51|\n",
      "| 1.764416467428487|              1.74|\n",
      "|1.7192403062529935|              1.68|\n",
      "+------------------+------------------+\n",
      "only showing top 20 rows\n",
      "\n"
     ]
    }
   ],
   "source": [
    "# Extract the predictions and the \"known\" correct labels\n",
    "predandlabels = predictions.select(\"pred\", \"median_house_value\")\n",
    "predandlabels.show()\n"
   ]
  },
  {
   "cell_type": "code",
   "execution_count": 32,
   "id": "09d1467e",
   "metadata": {
    "execution": {
     "iopub.execute_input": "2024-04-02T18:33:57.747578Z",
     "iopub.status.busy": "2024-04-02T18:33:57.746336Z",
     "iopub.status.idle": "2024-04-02T18:33:57.757463Z",
     "shell.execute_reply": "2024-04-02T18:33:57.756368Z"
    },
    "papermill": {
     "duration": 0.030399,
     "end_time": "2024-04-02T18:33:57.760053",
     "exception": false,
     "start_time": "2024-04-02T18:33:57.729654",
     "status": "completed"
    },
    "tags": []
   },
   "outputs": [
    {
     "name": "stdout",
     "output_type": "stream",
     "text": [
      "RMSE: 0.09716588491671344\n",
      "MAE: 0.07639188743044076\n",
      "R2: 0.9928769701533311\n"
     ]
    }
   ],
   "source": [
    "# Get the RMSE\n",
    "print(\"RMSE: {0}\".format(bestModel.summary.rootMeanSquaredError))\n",
    "print(\"MAE: {0}\".format(bestModel.summary.meanAbsoluteError))\n",
    "# Get the R2\n",
    "print(\"R2: {0}\".format(bestModel.summary.r2))"
   ]
  },
  {
   "cell_type": "code",
   "execution_count": 33,
   "id": "5b550f17",
   "metadata": {
    "execution": {
     "iopub.execute_input": "2024-04-02T18:33:57.792111Z",
     "iopub.status.busy": "2024-04-02T18:33:57.790181Z",
     "iopub.status.idle": "2024-04-02T18:33:58.000880Z",
     "shell.execute_reply": "2024-04-02T18:33:57.999662Z"
    },
    "papermill": {
     "duration": 0.22869,
     "end_time": "2024-04-02T18:33:58.003388",
     "exception": false,
     "start_time": "2024-04-02T18:33:57.774698",
     "status": "completed"
    },
    "tags": []
   },
   "outputs": [
    {
     "name": "stdout",
     "output_type": "stream",
     "text": [
      "RMSE: 0.10961378476421202\n"
     ]
    }
   ],
   "source": [
    "evaluator = RegressionEvaluator(predictionCol=\"pred\", labelCol='median_house_value', metricName='rmse')\n",
    "print(\"RMSE: {0}\".format(evaluator.evaluate(predandlabels)))"
   ]
  },
  {
   "cell_type": "code",
   "execution_count": 34,
   "id": "adc14d0c",
   "metadata": {
    "execution": {
     "iopub.execute_input": "2024-04-02T18:33:58.035034Z",
     "iopub.status.busy": "2024-04-02T18:33:58.034614Z",
     "iopub.status.idle": "2024-04-02T18:33:59.174822Z",
     "shell.execute_reply": "2024-04-02T18:33:59.173301Z"
    },
    "papermill": {
     "duration": 1.159171,
     "end_time": "2024-04-02T18:33:59.177565",
     "exception": false,
     "start_time": "2024-04-02T18:33:58.018394",
     "status": "completed"
    },
    "tags": []
   },
   "outputs": [
    {
     "data": {
      "text/plain": [
       "<Figure size 1000x600 with 0 Axes>"
      ]
     },
     "execution_count": 34,
     "metadata": {},
     "output_type": "execute_result"
    },
    {
     "data": {
      "text/plain": [
       "<matplotlib.collections.PathCollection at 0x7f9400335e70>"
      ]
     },
     "execution_count": 34,
     "metadata": {},
     "output_type": "execute_result"
    },
    {
     "data": {
      "text/plain": [
       "[<matplotlib.lines.Line2D at 0x7f9400336350>]"
      ]
     },
     "execution_count": 34,
     "metadata": {},
     "output_type": "execute_result"
    },
    {
     "data": {
      "text/plain": [
       "Text(0.5, 0, 'Gerçek Etiketler')"
      ]
     },
     "execution_count": 34,
     "metadata": {},
     "output_type": "execute_result"
    },
    {
     "data": {
      "text/plain": [
       "Text(0, 0.5, 'Tahminler')"
      ]
     },
     "execution_count": 34,
     "metadata": {},
     "output_type": "execute_result"
    },
    {
     "data": {
      "text/plain": [
       "Text(0.5, 1.0, 'Gerçek Etiketler vs. Tahminler')"
      ]
     },
     "execution_count": 34,
     "metadata": {},
     "output_type": "execute_result"
    },
    {
     "data": {
      "image/png": "[encoded data removed]",
      "text/plain": [
       "<Figure size 1000x600 with 1 Axes>"
      ]
     },
     "metadata": {},
     "output_type": "display_data"
    },
    {
     "name": "stdout",
     "output_type": "stream",
     "text": [
      "RMSE: 0.10961378476421202\n"
     ]
    }
   ],
   "source": [
    "import matplotlib.pyplot as plt\n",
    "\n",
    "# Tahminler ve gerçek etiketlerle DataFrame oluşturma\n",
    "predandlabels = predictions.select(\"pred\", \"median_house_value\")\n",
    "\n",
    "# RMSE değerini hesaplama\n",
    "evaluator = RegressionEvaluator(predictionCol=\"pred\", labelCol='median_house_value', metricName='rmse')\n",
    "rmse = evaluator.evaluate(predandlabels)\n",
    "\n",
    "# Grafik çizimi için tahmin ve gerçek etiketleri bir listeye dönüştürme\n",
    "pred_values = [row['pred'] for row in predandlabels.collect()]\n",
    "label_values = [row['median_house_value'] for row in predandlabels.collect()]\n",
    "\n",
    "# Grafik çizimi\n",
    "plt.figure(figsize=(10, 6))\n",
    "plt.scatter(label_values, pred_values, color='blue')\n",
    "plt.plot([min(label_values), max(label_values)], [min(label_values), max(label_values)], linestyle='--', color='red')\n",
    "plt.xlabel('Gerçek Etiketler')\n",
    "plt.ylabel('Tahminler')\n",
    "plt.title('Gerçek Etiketler vs. Tahminler')\n",
    "plt.grid(True)\n",
    "plt.show()\n",
    "\n",
    "# RMSE değerini yazdırma\n",
    "print(\"RMSE:\", rmse)\n"
   ]
  },
  {
   "cell_type": "code",
   "execution_count": 35,
   "id": "aaaecf23",
   "metadata": {
    "execution": {
     "iopub.execute_input": "2024-04-02T18:33:59.209881Z",
     "iopub.status.busy": "2024-04-02T18:33:59.209516Z",
     "iopub.status.idle": "2024-04-02T18:33:59.675021Z",
     "shell.execute_reply": "2024-04-02T18:33:59.673791Z"
    },
    "papermill": {
     "duration": 0.484415,
     "end_time": "2024-04-02T18:33:59.677585",
     "exception": false,
     "start_time": "2024-04-02T18:33:59.193170",
     "status": "completed"
    },
    "tags": []
   },
   "outputs": [],
   "source": [
    "spark.stop()"
   ]
  },
  {
   "cell_type": "code",
   "execution_count": null,
   "id": "e7b25a3b",
   "metadata": {
    "papermill": {
     "duration": 0.015925,
     "end_time": "2024-04-02T18:33:59.710241",
     "exception": false,
     "start_time": "2024-04-02T18:33:59.694316",
     "status": "completed"
    },
    "tags": []
   },
   "outputs": [],
   "source": []
  }
 ],
 "metadata": {
  "kaggle": {
   "accelerator": "none",
   "dataSources": [
    {
     "datasetId": 5227,
     "sourceId": 7876,
     "sourceType": "datasetVersion"
    }
   ],
   "dockerImageVersionId": 30673,
   "isGpuEnabled": false,
   "isInternetEnabled": true,
   "language": "python",
   "sourceType": "notebook"
  },
  "kernelspec": {
   "display_name": "Python 3",
   "language": "python",
   "name": "python3"
  },
  "language_info": {
   "codemirror_mode": {
    "name": "ipython",
    "version": 3
   },
   "file_extension": ".py",
   "mimetype": "text/x-python",
   "name": "python",
   "nbconvert_exporter": "python",
   "pygments_lexer": "ipython3",
   "version": "3.10.13"
  },
  "papermill": {
   "default_parameters": {},
   "duration": 107.05514,
   "end_time": "2024-04-02T18:34:02.345971",
   "environment_variables": {},
   "exception": null,
   "input_path": "__notebook__.ipynb",
   "output_path": "__notebook__.ipynb",
   "parameters": {},
   "start_time": "2024-04-02T18:32:15.290831",
   "version": "2.5.0"
  }
 },
 "nbformat": 4,
 "nbformat_minor": 5
}
