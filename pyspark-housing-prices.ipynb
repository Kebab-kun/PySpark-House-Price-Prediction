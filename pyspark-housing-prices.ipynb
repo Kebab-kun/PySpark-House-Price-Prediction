{
 "cells": [
  {
   "cell_type": "code",
   "execution_count": 1,
   "id": "46754e09",
   "metadata": {
    "_cell_guid": "b1076dfc-b9ad-4769-8c92-a6c4dae69d19",
    "_uuid": "8f2839f25d086af736a60e9eeb907d3b93b6e0e5",
    "execution": {
     "iopub.execute_input": "2024-04-02T17:59:18.141281Z",
     "iopub.status.busy": "2024-04-02T17:59:18.140736Z",
     "iopub.status.idle": "2024-04-02T18:00:14.140667Z",
     "shell.execute_reply": "2024-04-02T18:00:14.138779Z"
    },
    "papermill": {
     "duration": 56.017442,
     "end_time": "2024-04-02T18:00:14.143627",
     "exception": false,
     "start_time": "2024-04-02T17:59:18.126185",
     "status": "completed"
    },
    "tags": []
   },
   "outputs": [
    {
     "name": "stdout",
     "output_type": "stream",
     "text": [
      "Collecting pyspark\r\n",
      "  Downloading pyspark-3.5.1.tar.gz (317.0 MB)\r\n",
      "\u001b[2K     \u001b[90m━━━━━━━━━━━━━━━━━━━━━━━━━━━━━━━━━━━━━━━\u001b[0m \u001b[32m317.0/317.0 MB\u001b[0m \u001b[31m4.2 MB/s\u001b[0m eta \u001b[36m0:00:00\u001b[0m\r\n",
      "\u001b[?25h  Preparing metadata (setup.py) ... \u001b[?25l-\b \b\\\b \bdone\r\n",
      "\u001b[?25hRequirement already satisfied: py4j==0.10.9.7 in /opt/conda/lib/python3.10/site-packages (from pyspark) (0.10.9.7)\r\n",
      "Building wheels for collected packages: pyspark\r\n",
      "  Building wheel for pyspark (setup.py) ... \u001b[?25l-\b \b\\\b \b|\b \bdone\r\n",
      "\u001b[?25h  Created wheel for pyspark: filename=pyspark-3.5.1-py2.py3-none-any.whl size=317488493 sha256=358b971a9eb70e8da81156f4bf5ad651a0517695726eb7117c856c62acba2e67\r\n",
      "  Stored in directory: /root/.cache/pip/wheels/80/1d/60/2c256ed38dddce2fdd93be545214a63e02fbd8d74fb0b7f3a6\r\n",
      "Successfully built pyspark\r\n",
      "Installing collected packages: pyspark\r\n",
      "Successfully installed pyspark-3.5.1\r\n",
      "Note: you may need to restart the kernel to use updated packages.\n"
     ]
    }
   ],
   "source": [
    "%pip install pyspark"
   ]
  },
  {
   "cell_type": "code",
   "execution_count": 2,
   "id": "99151356",
   "metadata": {
    "execution": {
     "iopub.execute_input": "2024-04-02T18:00:14.192588Z",
     "iopub.status.busy": "2024-04-02T18:00:14.192118Z",
     "iopub.status.idle": "2024-04-02T18:00:15.596098Z",
     "shell.execute_reply": "2024-04-02T18:00:15.594753Z"
    },
    "papermill": {
     "duration": 1.437034,
     "end_time": "2024-04-02T18:00:15.604057",
     "exception": false,
     "start_time": "2024-04-02T18:00:14.167023",
     "status": "completed"
    },
    "tags": []
   },
   "outputs": [],
   "source": [
    "# Gerekli kütüphanelerin yüklenmesi\n",
    "from pyspark.sql import SparkSession\n",
    "from pyspark.sql.functions import col\n",
    "import pandas as pd\n",
    "import numpy as np"
   ]
  },
  {
   "cell_type": "code",
   "execution_count": 3,
   "id": "ec2514a9",
   "metadata": {
    "execution": {
     "iopub.execute_input": "2024-04-02T18:00:15.660807Z",
     "iopub.status.busy": "2024-04-02T18:00:15.660213Z",
     "iopub.status.idle": "2024-04-02T18:00:15.667256Z",
     "shell.execute_reply": "2024-04-02T18:00:15.665985Z"
    },
    "papermill": {
     "duration": 0.035401,
     "end_time": "2024-04-02T18:00:15.669942",
     "exception": false,
     "start_time": "2024-04-02T18:00:15.634541",
     "status": "completed"
    },
    "tags": []
   },
   "outputs": [],
   "source": [
    "from IPython.core.interactiveshell import InteractiveShell\n",
    "InteractiveShell.ast_node_interactivity = \"all\"\n",
    "\n",
    "pd.set_option('display.max_columns', 200)\n",
    "pd.set_option('display.max_colwidth', 400)"
   ]
  },
  {
   "cell_type": "code",
   "execution_count": 4,
   "id": "81177864",
   "metadata": {
    "execution": {
     "iopub.execute_input": "2024-04-02T18:00:15.723696Z",
     "iopub.status.busy": "2024-04-02T18:00:15.722386Z",
     "iopub.status.idle": "2024-04-02T18:00:35.170871Z",
     "shell.execute_reply": "2024-04-02T18:00:35.169076Z"
    },
    "papermill": {
     "duration": 19.476965,
     "end_time": "2024-04-02T18:00:35.174575",
     "exception": false,
     "start_time": "2024-04-02T18:00:15.697610",
     "status": "completed"
    },
    "tags": []
   },
   "outputs": [
    {
     "name": "stderr",
     "output_type": "stream",
     "text": [
      "Setting default log level to \"WARN\".\n",
      "To adjust logging level use sc.setLogLevel(newLevel). For SparkR, use setLogLevel(newLevel).\n",
      "24/04/02 18:00:20 WARN NativeCodeLoader: Unable to load native-hadoop library for your platform... using builtin-java classes where applicable\n",
      "                                                                                \r"
     ]
    }
   ],
   "source": [
    "# Spark session başlatma\n",
    "spark = SparkSession.builder \\\n",
    "    .appName(\"California Housing Prices Regression\") \\\n",
    "    .config(\"spark.sql.debug.maxToStringFields\", 1000) \\\n",
    "    .getOrCreate()\n",
    "\n",
    "# Veri setini yükleme\n",
    "file_path = \"/kaggle/input/california-housing-prices/housing.csv\"\n",
    "housing_data = spark.read.csv(file_path, header=True, inferSchema=True)\n"
   ]
  },
  {
   "cell_type": "code",
   "execution_count": 5,
   "id": "5e243552",
   "metadata": {
    "execution": {
     "iopub.execute_input": "2024-04-02T18:00:35.237288Z",
     "iopub.status.busy": "2024-04-02T18:00:35.235778Z",
     "iopub.status.idle": "2024-04-02T18:00:35.259253Z",
     "shell.execute_reply": "2024-04-02T18:00:35.257113Z"
    },
    "papermill": {
     "duration": 0.06079,
     "end_time": "2024-04-02T18:00:35.263457",
     "exception": false,
     "start_time": "2024-04-02T18:00:35.202667",
     "status": "completed"
    },
    "tags": []
   },
   "outputs": [
    {
     "data": {
      "text/html": [
       "\n",
       "            <div>\n",
       "                <p><b>SparkSession - in-memory</b></p>\n",
       "                \n",
       "        <div>\n",
       "            <p><b>SparkContext</b></p>\n",
       "\n",
       "            <p><a href=\"http://d2960c77665f:4040\">Spark UI</a></p>\n",
       "\n",
       "            <dl>\n",
       "              <dt>Version</dt>\n",
       "                <dd><code>v3.5.1</code></dd>\n",
       "              <dt>Master</dt>\n",
       "                <dd><code>local[*]</code></dd>\n",
       "              <dt>AppName</dt>\n",
       "                <dd><code>California Housing Prices Regression</code></dd>\n",
       "            </dl>\n",
       "        </div>\n",
       "        \n",
       "            </div>\n",
       "        "
      ],
      "text/plain": [
       "<pyspark.sql.session.SparkSession at 0x78cbe1751ed0>"
      ]
     },
     "execution_count": 5,
     "metadata": {},
     "output_type": "execute_result"
    }
   ],
   "source": [
    "spark"
   ]
  },
  {
   "cell_type": "code",
   "execution_count": 6,
   "id": "6c3dfef2",
   "metadata": {
    "execution": {
     "iopub.execute_input": "2024-04-02T18:00:35.320333Z",
     "iopub.status.busy": "2024-04-02T18:00:35.319454Z",
     "iopub.status.idle": "2024-04-02T18:00:36.005028Z",
     "shell.execute_reply": "2024-04-02T18:00:36.002790Z"
    },
    "papermill": {
     "duration": 0.718199,
     "end_time": "2024-04-02T18:00:36.009546",
     "exception": false,
     "start_time": "2024-04-02T18:00:35.291347",
     "status": "completed"
    },
    "tags": []
   },
   "outputs": [
    {
     "name": "stdout",
     "output_type": "stream",
     "text": [
      "+---------+--------+------------------+-----------+--------------+----------+----------+-------------+------------------+---------------+\n",
      "|longitude|latitude|housing_median_age|total_rooms|total_bedrooms|population|households|median_income|median_house_value|ocean_proximity|\n",
      "+---------+--------+------------------+-----------+--------------+----------+----------+-------------+------------------+---------------+\n",
      "|  -122.23|   37.88|              41.0|      880.0|         129.0|     322.0|     126.0|       8.3252|          452600.0|       NEAR BAY|\n",
      "|  -122.22|   37.86|              21.0|     7099.0|        1106.0|    2401.0|    1138.0|       8.3014|          358500.0|       NEAR BAY|\n",
      "|  -122.24|   37.85|              52.0|     1467.0|         190.0|     496.0|     177.0|       7.2574|          352100.0|       NEAR BAY|\n",
      "|  -122.25|   37.85|              52.0|     1274.0|         235.0|     558.0|     219.0|       5.6431|          341300.0|       NEAR BAY|\n",
      "|  -122.25|   37.85|              52.0|     1627.0|         280.0|     565.0|     259.0|       3.8462|          342200.0|       NEAR BAY|\n",
      "+---------+--------+------------------+-----------+--------------+----------+----------+-------------+------------------+---------------+\n",
      "only showing top 5 rows\n",
      "\n"
     ]
    }
   ],
   "source": [
    "# Veri setinin ilk 5 satırını görüntüleme\n",
    "housing_data.show(5)\n"
   ]
  },
  {
   "cell_type": "code",
   "execution_count": 7,
   "id": "d9c8827f",
   "metadata": {
    "execution": {
     "iopub.execute_input": "2024-04-02T18:00:36.081422Z",
     "iopub.status.busy": "2024-04-02T18:00:36.080836Z",
     "iopub.status.idle": "2024-04-02T18:00:43.489771Z",
     "shell.execute_reply": "2024-04-02T18:00:43.486319Z"
    },
    "papermill": {
     "duration": 7.451859,
     "end_time": "2024-04-02T18:00:43.498356",
     "exception": false,
     "start_time": "2024-04-02T18:00:36.046497",
     "status": "completed"
    },
    "tags": []
   },
   "outputs": [
    {
     "name": "stderr",
     "output_type": "stream",
     "text": [
      "                                                                                \r"
     ]
    },
    {
     "name": "stdout",
     "output_type": "stream",
     "text": [
      "Eksik Değer İçeren Sütunlar ve Sayıları:\n",
      "total_bedrooms :  207\n"
     ]
    }
   ],
   "source": [
    "# Eksik değerlerin kontrol edilmesi ve eksik değer içeren sütunların belirlenmesi\n",
    "missing_col = {}\n",
    "for col_name in housing_data.columns:\n",
    "    missing_count = housing_data.where(col(col_name).isNull()).count()\n",
    "    if missing_count > 0:\n",
    "        missing_col[col_name] = missing_count\n",
    "\n",
    "# Eksik değer içeren sütunların ve eksik değer sayılarının listelenmesi\n",
    "print(\"Eksik Değer İçeren Sütunlar ve Sayıları:\")\n",
    "for col_name, count in missing_col.items():\n",
    "    print(col_name, \": \", count)\n"
   ]
  },
  {
   "cell_type": "code",
   "execution_count": 8,
   "id": "9704b33b",
   "metadata": {
    "execution": {
     "iopub.execute_input": "2024-04-02T18:00:43.621267Z",
     "iopub.status.busy": "2024-04-02T18:00:43.620405Z",
     "iopub.status.idle": "2024-04-02T18:00:43.954383Z",
     "shell.execute_reply": "2024-04-02T18:00:43.952957Z"
    },
    "papermill": {
     "duration": 0.382523,
     "end_time": "2024-04-02T18:00:43.960055",
     "exception": false,
     "start_time": "2024-04-02T18:00:43.577532",
     "status": "completed"
    },
    "tags": []
   },
   "outputs": [
    {
     "name": "stdout",
     "output_type": "stream",
     "text": [
      "+---------+--------+------------------+-----------+--------------+----------+----------+-------------+------------------+---------------+\n",
      "|longitude|latitude|housing_median_age|total_rooms|total_bedrooms|population|households|median_income|median_house_value|ocean_proximity|\n",
      "+---------+--------+------------------+-----------+--------------+----------+----------+-------------+------------------+---------------+\n",
      "|  -122.16|   37.77|              47.0|     1256.0|          NULL|     570.0|     218.0|        4.375|          161900.0|       NEAR BAY|\n",
      "|  -122.17|   37.75|              38.0|      992.0|          NULL|     732.0|     259.0|       1.6196|           85100.0|       NEAR BAY|\n",
      "|  -122.28|   37.78|              29.0|     5154.0|          NULL|    3741.0|    1273.0|       2.5762|          173400.0|       NEAR BAY|\n",
      "|  -122.24|   37.75|              45.0|      891.0|          NULL|     384.0|     146.0|       4.9489|          247100.0|       NEAR BAY|\n",
      "|   -122.1|   37.69|              41.0|      746.0|          NULL|     387.0|     161.0|       3.9063|          178400.0|       NEAR BAY|\n",
      "+---------+--------+------------------+-----------+--------------+----------+----------+-------------+------------------+---------------+\n",
      "\n"
     ]
    }
   ],
   "source": [
    "# total_bedrooms sütunundaki eksik değerleri içeren satırların bulunması\n",
    "missing_bedrooms_rows = housing_data.where(col(\"total_bedrooms\").isNull()).limit(5)\n",
    "\n",
    "# Sonuçların görüntülenmesi\n",
    "missing_bedrooms_rows.show()"
   ]
  },
  {
   "cell_type": "code",
   "execution_count": 9,
   "id": "0ad7f9c0",
   "metadata": {
    "execution": {
     "iopub.execute_input": "2024-04-02T18:00:44.043176Z",
     "iopub.status.busy": "2024-04-02T18:00:44.042568Z",
     "iopub.status.idle": "2024-04-02T18:00:47.740560Z",
     "shell.execute_reply": "2024-04-02T18:00:47.738679Z"
    },
    "papermill": {
     "duration": 3.744477,
     "end_time": "2024-04-02T18:00:47.745520",
     "exception": false,
     "start_time": "2024-04-02T18:00:44.001043",
     "status": "completed"
    },
    "tags": []
   },
   "outputs": [
    {
     "name": "stderr",
     "output_type": "stream",
     "text": [
      "[Stage 36:>                                                         (0 + 1) / 1]\r"
     ]
    },
    {
     "name": "stdout",
     "output_type": "stream",
     "text": [
      "+-------+-------------------+-----------------+------------------+------------------+------------------+------------------+-----------------+------------------+------------------+---------------+\n",
      "|summary|          longitude|         latitude|housing_median_age|       total_rooms|    total_bedrooms|        population|       households|     median_income|median_house_value|ocean_proximity|\n",
      "+-------+-------------------+-----------------+------------------+------------------+------------------+------------------+-----------------+------------------+------------------+---------------+\n",
      "|  count|              20640|            20640|             20640|             20640|             20433|             20640|            20640|             20640|             20640|          20640|\n",
      "|   mean|-119.56970445736148| 35.6318614341087|28.639486434108527|2635.7630813953488| 537.8705525375618|1425.4767441860465|499.5396802325581|3.8706710029070246|206855.81690891474|           NULL|\n",
      "| stddev|  2.003531723502584|2.135952397457101| 12.58555761211163|2181.6152515827944|421.38507007403115|  1132.46212176534|382.3297528316098| 1.899821717945263|115395.61587441359|           NULL|\n",
      "|    min|            -124.35|            32.54|               1.0|               2.0|               1.0|               3.0|              1.0|            0.4999|           14999.0|      <1H OCEAN|\n",
      "|    max|            -114.31|            41.95|              52.0|           39320.0|            6445.0|           35682.0|           6082.0|           15.0001|          500001.0|     NEAR OCEAN|\n",
      "+-------+-------------------+-----------------+------------------+------------------+------------------+------------------+-----------------+------------------+------------------+---------------+\n",
      "\n"
     ]
    },
    {
     "name": "stderr",
     "output_type": "stream",
     "text": [
      "                                                                                \r"
     ]
    }
   ],
   "source": [
    "# Veri setinin istatistiksel özetini görüntüleme\n",
    "housing_data.describe().show()"
   ]
  },
  {
   "cell_type": "code",
   "execution_count": 10,
   "id": "038339dd",
   "metadata": {
    "execution": {
     "iopub.execute_input": "2024-04-02T18:00:47.818689Z",
     "iopub.status.busy": "2024-04-02T18:00:47.818127Z",
     "iopub.status.idle": "2024-04-02T18:00:47.827536Z",
     "shell.execute_reply": "2024-04-02T18:00:47.826319Z"
    },
    "papermill": {
     "duration": 0.054626,
     "end_time": "2024-04-02T18:00:47.835315",
     "exception": false,
     "start_time": "2024-04-02T18:00:47.780689",
     "status": "completed"
    },
    "tags": []
   },
   "outputs": [
    {
     "name": "stdout",
     "output_type": "stream",
     "text": [
      "root\n",
      " |-- longitude: double (nullable = true)\n",
      " |-- latitude: double (nullable = true)\n",
      " |-- housing_median_age: double (nullable = true)\n",
      " |-- total_rooms: double (nullable = true)\n",
      " |-- total_bedrooms: double (nullable = true)\n",
      " |-- population: double (nullable = true)\n",
      " |-- households: double (nullable = true)\n",
      " |-- median_income: double (nullable = true)\n",
      " |-- median_house_value: double (nullable = true)\n",
      " |-- ocean_proximity: string (nullable = true)\n",
      "\n"
     ]
    }
   ],
   "source": [
    "# Veri setinin şemasını kontrol etme\n",
    "housing_data.printSchema()"
   ]
  },
  {
   "cell_type": "code",
   "execution_count": 11,
   "id": "5e8c72a1",
   "metadata": {
    "execution": {
     "iopub.execute_input": "2024-04-02T18:00:47.911556Z",
     "iopub.status.busy": "2024-04-02T18:00:47.910718Z",
     "iopub.status.idle": "2024-04-02T18:00:48.924851Z",
     "shell.execute_reply": "2024-04-02T18:00:48.923533Z"
    },
    "papermill": {
     "duration": 1.056189,
     "end_time": "2024-04-02T18:00:48.928982",
     "exception": false,
     "start_time": "2024-04-02T18:00:47.872793",
     "status": "completed"
    },
    "tags": []
   },
   "outputs": [
    {
     "name": "stdout",
     "output_type": "stream",
     "text": [
      "+---------------+-----+\n",
      "|ocean_proximity|count|\n",
      "+---------------+-----+\n",
      "|      <1H OCEAN| 9136|\n",
      "|         INLAND| 6551|\n",
      "|     NEAR OCEAN| 2658|\n",
      "|       NEAR BAY| 2290|\n",
      "|         ISLAND|    5|\n",
      "+---------------+-----+\n",
      "\n"
     ]
    }
   ],
   "source": [
    "# ocean_proximity sütunundaki benzersiz değerlerin ve sayılarının bulunması\n",
    "unique_values_counts = housing_data.groupBy(\"ocean_proximity\").count().orderBy(\"count\", ascending=False)\n",
    "\n",
    "# Sonuçları görüntüleme\n",
    "unique_values_counts.show()"
   ]
  },
  {
   "cell_type": "code",
   "execution_count": 12,
   "id": "926e7e0f",
   "metadata": {
    "execution": {
     "iopub.execute_input": "2024-04-02T18:00:49.004340Z",
     "iopub.status.busy": "2024-04-02T18:00:49.003652Z",
     "iopub.status.idle": "2024-04-02T18:00:49.022498Z",
     "shell.execute_reply": "2024-04-02T18:00:49.021171Z"
    },
    "papermill": {
     "duration": 0.061238,
     "end_time": "2024-04-02T18:00:49.026635",
     "exception": false,
     "start_time": "2024-04-02T18:00:48.965397",
     "status": "completed"
    },
    "tags": []
   },
   "outputs": [],
   "source": [
    "housing_data = housing_data.drop(\"longitude\", \"latitude\")"
   ]
  },
  {
   "cell_type": "code",
   "execution_count": 13,
   "id": "7ece602a",
   "metadata": {
    "execution": {
     "iopub.execute_input": "2024-04-02T18:00:49.097891Z",
     "iopub.status.busy": "2024-04-02T18:00:49.097352Z",
     "iopub.status.idle": "2024-04-02T18:00:49.140321Z",
     "shell.execute_reply": "2024-04-02T18:00:49.138964Z"
    },
    "papermill": {
     "duration": 0.08258,
     "end_time": "2024-04-02T18:00:49.143864",
     "exception": false,
     "start_time": "2024-04-02T18:00:49.061284",
     "status": "completed"
    },
    "tags": []
   },
   "outputs": [],
   "source": [
    "# Adjust the values of `medianHouseValue`\n",
    "housing_data = housing_data.withColumn(\"median_house_value\", col(\"median_house_value\")/100000)"
   ]
  },
  {
   "cell_type": "code",
   "execution_count": 14,
   "id": "9ef5e01c",
   "metadata": {
    "execution": {
     "iopub.execute_input": "2024-04-02T18:00:49.199645Z",
     "iopub.status.busy": "2024-04-02T18:00:49.199204Z",
     "iopub.status.idle": "2024-04-02T18:00:50.380092Z",
     "shell.execute_reply": "2024-04-02T18:00:50.378960Z"
    },
    "papermill": {
     "duration": 1.210328,
     "end_time": "2024-04-02T18:00:50.383271",
     "exception": false,
     "start_time": "2024-04-02T18:00:49.172943",
     "status": "completed"
    },
    "tags": []
   },
   "outputs": [
    {
     "name": "stdout",
     "output_type": "stream",
     "text": [
      "Training Rows: 14494  Testing Rows: 6146\n"
     ]
    }
   ],
   "source": [
    "splits = housing_data.randomSplit([0.7, 0.3])\n",
    "train = splits[0]\n",
    "test = splits[1]\n",
    "train_rows = train.count()\n",
    "test_rows = test.count()\n",
    "print(\"Training Rows:\", train_rows, \" Testing Rows:\", test_rows)\n"
   ]
  },
  {
   "cell_type": "code",
   "execution_count": 15,
   "id": "81432a20",
   "metadata": {
    "execution": {
     "iopub.execute_input": "2024-04-02T18:00:50.458126Z",
     "iopub.status.busy": "2024-04-02T18:00:50.457553Z",
     "iopub.status.idle": "2024-04-02T18:00:50.466286Z",
     "shell.execute_reply": "2024-04-02T18:00:50.465011Z"
    },
    "papermill": {
     "duration": 0.048219,
     "end_time": "2024-04-02T18:00:50.468852",
     "exception": false,
     "start_time": "2024-04-02T18:00:50.420633",
     "status": "completed"
    },
    "tags": []
   },
   "outputs": [],
   "source": [
    "# Tüm numerik sütunların seçilmesi\n",
    "numeric_columns = [col for col, dtype in housing_data.dtypes if dtype != \"string\"]"
   ]
  },
  {
   "cell_type": "code",
   "execution_count": 16,
   "id": "bda494c5",
   "metadata": {
    "execution": {
     "iopub.execute_input": "2024-04-02T18:00:50.521327Z",
     "iopub.status.busy": "2024-04-02T18:00:50.520015Z",
     "iopub.status.idle": "2024-04-02T18:00:50.529018Z",
     "shell.execute_reply": "2024-04-02T18:00:50.527679Z"
    },
    "papermill": {
     "duration": 0.037472,
     "end_time": "2024-04-02T18:00:50.531546",
     "exception": false,
     "start_time": "2024-04-02T18:00:50.494074",
     "status": "completed"
    },
    "tags": []
   },
   "outputs": [
    {
     "data": {
      "text/plain": [
       "['housing_median_age',\n",
       " 'total_rooms',\n",
       " 'total_bedrooms',\n",
       " 'population',\n",
       " 'households',\n",
       " 'median_income',\n",
       " 'median_house_value']"
      ]
     },
     "execution_count": 16,
     "metadata": {},
     "output_type": "execute_result"
    }
   ],
   "source": [
    "numeric_columns"
   ]
  },
  {
   "cell_type": "code",
   "execution_count": 17,
   "id": "2d794cab",
   "metadata": {
    "execution": {
     "iopub.execute_input": "2024-04-02T18:00:50.586032Z",
     "iopub.status.busy": "2024-04-02T18:00:50.584801Z",
     "iopub.status.idle": "2024-04-02T18:00:50.594080Z",
     "shell.execute_reply": "2024-04-02T18:00:50.592746Z"
    },
    "papermill": {
     "duration": 0.040165,
     "end_time": "2024-04-02T18:00:50.596554",
     "exception": false,
     "start_time": "2024-04-02T18:00:50.556389",
     "status": "completed"
    },
    "tags": []
   },
   "outputs": [
    {
     "name": "stdout",
     "output_type": "stream",
     "text": [
      "Categorical Columns:\n",
      "ocean_proximity\n"
     ]
    }
   ],
   "source": [
    "# Get the columns and their data types\n",
    "column_types = train.dtypes\n",
    "\n",
    "# Identify categorical columns\n",
    "categorical_columns = [col_name for col_name, col_type in column_types if col_type == 'string']\n",
    "\n",
    "# Print the categorical columns\n",
    "print(\"Categorical Columns:\")\n",
    "for col_name in categorical_columns:\n",
    "    print(col_name)\n"
   ]
  },
  {
   "cell_type": "code",
   "execution_count": 18,
   "id": "f50b1d14",
   "metadata": {
    "execution": {
     "iopub.execute_input": "2024-04-02T18:00:50.648889Z",
     "iopub.status.busy": "2024-04-02T18:00:50.647427Z",
     "iopub.status.idle": "2024-04-02T18:00:54.931137Z",
     "shell.execute_reply": "2024-04-02T18:00:54.929711Z"
    },
    "papermill": {
     "duration": 4.314358,
     "end_time": "2024-04-02T18:00:54.935255",
     "exception": false,
     "start_time": "2024-04-02T18:00:50.620897",
     "status": "completed"
    },
    "tags": []
   },
   "outputs": [
    {
     "name": "stderr",
     "output_type": "stream",
     "text": [
      "                                                                                \r"
     ]
    },
    {
     "name": "stdout",
     "output_type": "stream",
     "text": [
      "+------------------+-----------+--------------+----------+----------+-------------+------------------+-----------------------+--------------------+--------------------+\n",
      "|housing_median_age|total_rooms|total_bedrooms|population|households|median_income|median_house_value|ocean_proximity_encoded|            features|     scaled_features|\n",
      "+------------------+-----------+--------------+----------+----------+-------------+------------------+-----------------------+--------------------+--------------------+\n",
      "|               1.0|        6.0|           2.0|       8.0|       2.0|         1.63|              0.55|                    1.0|[1.0,6.0,2.0,8.0,...|[-2.1957298610917...|\n",
      "|               1.0|     2062.0|         343.0|     872.0|     268.0|         5.26|              1.91|                    1.0|[1.0,2062.0,343.0...|[-2.1957298610917...|\n",
      "|               1.0|     2254.0|         328.0|     402.0|     112.0|         4.25|              1.89|                    1.0|[1.0,2254.0,328.0...|[-2.1957298610917...|\n",
      "|               2.0|       96.0|          18.0|      30.0|      16.0|         5.34|              0.48|                    1.0|[2.0,96.0,18.0,30...|[-2.1162582535171...|\n",
      "|               2.0|      200.0|          20.0|      25.0|       9.0|         15.0|               3.5|                    0.0|[2.0,200.0,20.0,2...|[-2.1162582535171...|\n",
      "+------------------+-----------+--------------+----------+----------+-------------+------------------+-----------------------+--------------------+--------------------+\n",
      "only showing top 5 rows\n",
      "\n"
     ]
    }
   ],
   "source": [
    "from pyspark.ml import Pipeline\n",
    "from pyspark.ml.feature import StringIndexer, VectorAssembler, StandardScaler\n",
    "from pyspark.sql.functions import col, round\n",
    "\n",
    "# Eksik değerleri içeren satırların droplanması ve sayısal sütunların yuvarlanması\n",
    "train = train.na.drop()\n",
    "for numeric_col in numeric_columns:\n",
    "    train = train.withColumn(numeric_col, round(col(numeric_col), 2))\n",
    "\n",
    "# Pipeline'in bileşenlerini tanımlama\n",
    "encoding = [StringIndexer(inputCol=col, outputCol=col+\"_encoded\", handleInvalid=\"keep\") for col in categorical_columns]\n",
    "\n",
    "# VectorAssembler kullanarak tüm sütunları birleştirme\n",
    "assembler_inputs = numeric_columns + [col + \"_encoded\" for col in categorical_columns]\n",
    "assembler = VectorAssembler(inputCols=assembler_inputs, outputCol=\"features\")\n",
    "\n",
    "# StandardScaler ile sayısal sütunları ölçeklendirme\n",
    "scaler = StandardScaler(inputCol=\"features\", outputCol=\"scaled_features\", withStd=True, withMean=True)\n",
    "\n",
    "# Pipeline oluşturma\n",
    "pipeline = Pipeline(stages=encoding + [assembler, scaler])\n",
    "\n",
    "# Pipeline'i kullanarak train veri setini dönüştürme\n",
    "transformed_train = pipeline.fit(train).transform(train)\n",
    "\n",
    "# Kategorik sütunları çıkar\n",
    "transformed_train = transformed_train.drop(*categorical_columns)\n",
    "\n",
    "# İlk 5 satırı gösterme\n",
    "transformed_train.show(5)\n"
   ]
  },
  {
   "cell_type": "code",
   "execution_count": 19,
   "id": "c029de9f",
   "metadata": {
    "execution": {
     "iopub.execute_input": "2024-04-02T18:00:55.012604Z",
     "iopub.status.busy": "2024-04-02T18:00:55.012017Z",
     "iopub.status.idle": "2024-04-02T18:00:55.030581Z",
     "shell.execute_reply": "2024-04-02T18:00:55.029391Z"
    },
    "papermill": {
     "duration": 0.060947,
     "end_time": "2024-04-02T18:00:55.033612",
     "exception": false,
     "start_time": "2024-04-02T18:00:54.972665",
     "status": "completed"
    },
    "tags": []
   },
   "outputs": [
    {
     "data": {
      "text/plain": [
       "['housing_median_age',\n",
       " 'total_rooms',\n",
       " 'total_bedrooms',\n",
       " 'population',\n",
       " 'households',\n",
       " 'median_income',\n",
       " 'median_house_value',\n",
       " 'ocean_proximity_encoded',\n",
       " 'features',\n",
       " 'scaled_features']"
      ]
     },
     "execution_count": 19,
     "metadata": {},
     "output_type": "execute_result"
    }
   ],
   "source": [
    "transformed_train.columns"
   ]
  },
  {
   "cell_type": "code",
   "execution_count": 20,
   "id": "a814453e",
   "metadata": {
    "execution": {
     "iopub.execute_input": "2024-04-02T18:00:55.109297Z",
     "iopub.status.busy": "2024-04-02T18:00:55.108317Z",
     "iopub.status.idle": "2024-04-02T18:00:57.573828Z",
     "shell.execute_reply": "2024-04-02T18:00:57.571443Z"
    },
    "papermill": {
     "duration": 2.516503,
     "end_time": "2024-04-02T18:00:57.586967",
     "exception": false,
     "start_time": "2024-04-02T18:00:55.070464",
     "status": "completed"
    },
    "tags": []
   },
   "outputs": [
    {
     "name": "stdout",
     "output_type": "stream",
     "text": [
      "+------------------+-----------+--------------+----------+----------+-------------+------------------+-----------------------+--------------------+--------------------+\n",
      "|housing_median_age|total_rooms|total_bedrooms|population|households|median_income|median_house_value|ocean_proximity_encoded|            features|     scaled_features|\n",
      "+------------------+-----------+--------------+----------+----------+-------------+------------------+-----------------------+--------------------+--------------------+\n",
      "|               1.0|       83.0|          15.0|      32.0|      15.0|         4.88|              1.42|                    1.0|[1.0,83.0,15.0,32...|[-2.1915295513258...|\n",
      "|               2.0|      158.0|          43.0|      94.0|      57.0|         2.56|               0.6|                    3.0|[2.0,158.0,43.0,9...|[-2.1122483681687...|\n",
      "|               2.0|      966.0|         270.0|     233.0|     169.0|         1.97|               4.5|                    0.0|[2.0,966.0,270.0,...|[-2.1122483681687...|\n",
      "|               2.0|     1205.0|         468.0|     577.0|     363.0|         3.64|              2.75|                    3.0|[2.0,1205.0,468.0...|[-2.1122483681687...|\n",
      "|               2.0|     2103.0|         389.0|     923.0|     338.0|         5.06|              1.11|                    1.0|[2.0,2103.0,389.0...|[-2.1122483681687...|\n",
      "+------------------+-----------+--------------+----------+----------+-------------+------------------+-----------------------+--------------------+--------------------+\n",
      "only showing top 5 rows\n",
      "\n"
     ]
    }
   ],
   "source": [
    "# Eksik değerleri içeren satırların droplanması ve sayısal sütunların yuvarlanması\n",
    "test = test.na.drop()\n",
    "for numeric_col in numeric_columns:\n",
    "    test = test.withColumn(numeric_col, round(col(numeric_col), 2))\n",
    "\n",
    "# Pipeline'i kullanarak test veri setini dönüştürme\n",
    "transformed_test = pipeline.fit(test).transform(test)\n",
    "\n",
    "# Kategorik sütunları çıkar\n",
    "transformed_test = transformed_test.drop(*categorical_columns)\n",
    "\n",
    "# İlk 5 satırı gösterme\n",
    "transformed_test.show(5)\n"
   ]
  },
  {
   "cell_type": "code",
   "execution_count": 21,
   "id": "e8dc1f75",
   "metadata": {
    "execution": {
     "iopub.execute_input": "2024-04-02T18:00:57.667732Z",
     "iopub.status.busy": "2024-04-02T18:00:57.666990Z",
     "iopub.status.idle": "2024-04-02T18:00:57.673848Z",
     "shell.execute_reply": "2024-04-02T18:00:57.672486Z"
    },
    "papermill": {
     "duration": 0.049574,
     "end_time": "2024-04-02T18:00:57.676886",
     "exception": false,
     "start_time": "2024-04-02T18:00:57.627312",
     "status": "completed"
    },
    "tags": []
   },
   "outputs": [],
   "source": [
    "cols = [\"housing_median_age\",\"total_rooms\",\"total_bedrooms\",\"population\",\"households\",\"median_income\",\n",
    "                        \"median_house_value\",\"ocean_proximity_encoded\"]"
   ]
  },
  {
   "cell_type": "code",
   "execution_count": 22,
   "id": "8a0b94ad",
   "metadata": {
    "execution": {
     "iopub.execute_input": "2024-04-02T18:00:57.855853Z",
     "iopub.status.busy": "2024-04-02T18:00:57.855051Z",
     "iopub.status.idle": "2024-04-02T18:00:57.866223Z",
     "shell.execute_reply": "2024-04-02T18:00:57.864888Z"
    },
    "papermill": {
     "duration": 0.156903,
     "end_time": "2024-04-02T18:00:57.869452",
     "exception": false,
     "start_time": "2024-04-02T18:00:57.712549",
     "status": "completed"
    },
    "tags": []
   },
   "outputs": [],
   "source": [
    "from pyspark.ml.regression import LinearRegression\n",
    "from pyspark.mllib.evaluation import RegressionMetrics\n",
    "\n",
    "from pyspark.ml.tuning import ParamGridBuilder, CrossValidator, CrossValidatorModel\n",
    "from pyspark.ml.feature import VectorAssembler, StandardScaler\n",
    "from pyspark.ml.evaluation import RegressionEvaluator"
   ]
  },
  {
   "cell_type": "code",
   "execution_count": 23,
   "id": "a247c328",
   "metadata": {
    "execution": {
     "iopub.execute_input": "2024-04-02T18:00:57.922324Z",
     "iopub.status.busy": "2024-04-02T18:00:57.921932Z",
     "iopub.status.idle": "2024-04-02T18:00:57.981966Z",
     "shell.execute_reply": "2024-04-02T18:00:57.980455Z"
    },
    "papermill": {
     "duration": 0.08982,
     "end_time": "2024-04-02T18:00:57.985253",
     "exception": false,
     "start_time": "2024-04-02T18:00:57.895433",
     "status": "completed"
    },
    "tags": []
   },
   "outputs": [],
   "source": [
    "# Initialize `lr`\n",
    "lr = (LinearRegression(featuresCol='scaled_features', labelCol=\"median_house_value\", predictionCol='pred', \n",
    "                               maxIter=10, regParam=0.3, elasticNetParam=0.8, standardization=False))"
   ]
  },
  {
   "cell_type": "code",
   "execution_count": 24,
   "id": "90f01f60",
   "metadata": {
    "execution": {
     "iopub.execute_input": "2024-04-02T18:00:58.060204Z",
     "iopub.status.busy": "2024-04-02T18:00:58.059495Z",
     "iopub.status.idle": "2024-04-02T18:01:03.078141Z",
     "shell.execute_reply": "2024-04-02T18:01:03.076820Z"
    },
    "papermill": {
     "duration": 5.05843,
     "end_time": "2024-04-02T18:01:03.082240",
     "exception": false,
     "start_time": "2024-04-02T18:00:58.023810",
     "status": "completed"
    },
    "tags": []
   },
   "outputs": [
    {
     "name": "stderr",
     "output_type": "stream",
     "text": [
      "24/04/02 18:00:59 WARN InstanceBuilder: Failed to load implementation from:dev.ludovic.netlib.blas.JNIBLAS\n",
      "                                                                                \r"
     ]
    }
   ],
   "source": [
    "# Fit the data to the model\n",
    "linearModel = lr.fit(transformed_train)"
   ]
  },
  {
   "cell_type": "code",
   "execution_count": 25,
   "id": "a13efc52",
   "metadata": {
    "execution": {
     "iopub.execute_input": "2024-04-02T18:01:03.138199Z",
     "iopub.status.busy": "2024-04-02T18:01:03.137782Z",
     "iopub.status.idle": "2024-04-02T18:01:03.169845Z",
     "shell.execute_reply": "2024-04-02T18:01:03.168565Z"
    },
    "papermill": {
     "duration": 0.063446,
     "end_time": "2024-04-02T18:01:03.172669",
     "exception": false,
     "start_time": "2024-04-02T18:01:03.109223",
     "status": "completed"
    },
    "tags": []
   },
   "outputs": [
    {
     "data": {
      "text/plain": [
       "DenseVector([0.0, 0.0, 0.0, 0.0, 0.0, 0.0, 0.8669, 0.0])"
      ]
     },
     "execution_count": 25,
     "metadata": {},
     "output_type": "execute_result"
    }
   ],
   "source": [
    "# Coefficients for the model\n",
    "linearModel.coefficients"
   ]
  },
  {
   "cell_type": "code",
   "execution_count": 26,
   "id": "6758d629",
   "metadata": {
    "execution": {
     "iopub.execute_input": "2024-04-02T18:01:03.234348Z",
     "iopub.status.busy": "2024-04-02T18:01:03.232872Z",
     "iopub.status.idle": "2024-04-02T18:01:03.247969Z",
     "shell.execute_reply": "2024-04-02T18:01:03.246647Z"
    },
    "papermill": {
     "duration": 0.052654,
     "end_time": "2024-04-02T18:01:03.251310",
     "exception": false,
     "start_time": "2024-04-02T18:01:03.198656",
     "status": "completed"
    },
    "tags": []
   },
   "outputs": [
    {
     "data": {
      "text/plain": [
       "2.0604626532887385"
      ]
     },
     "execution_count": 26,
     "metadata": {},
     "output_type": "execute_result"
    }
   ],
   "source": [
    "# Intercept for the model\n",
    "linearModel.intercept"
   ]
  },
  {
   "cell_type": "code",
   "execution_count": 27,
   "id": "46cb573e",
   "metadata": {
    "execution": {
     "iopub.execute_input": "2024-04-02T18:01:03.351549Z",
     "iopub.status.busy": "2024-04-02T18:01:03.351037Z",
     "iopub.status.idle": "2024-04-02T18:01:03.381033Z",
     "shell.execute_reply": "2024-04-02T18:01:03.379382Z"
    },
    "papermill": {
     "duration": 0.081751,
     "end_time": "2024-04-02T18:01:03.384599",
     "exception": false,
     "start_time": "2024-04-02T18:01:03.302848",
     "status": "completed"
    },
    "tags": []
   },
   "outputs": [],
   "source": [
    "coeff_df = pd.DataFrame({\"Feature\": [\"Intercept\"] + cols, \"Co-efficients\": np.insert(linearModel.coefficients.toArray(), 0, linearModel.intercept)})\n",
    "coeff_df = coeff_df[[\"Feature\", \"Co-efficients\"]]"
   ]
  },
  {
   "cell_type": "code",
   "execution_count": 28,
   "id": "3731ea37",
   "metadata": {
    "execution": {
     "iopub.execute_input": "2024-04-02T18:01:03.439867Z",
     "iopub.status.busy": "2024-04-02T18:01:03.438871Z",
     "iopub.status.idle": "2024-04-02T18:01:03.460777Z",
     "shell.execute_reply": "2024-04-02T18:01:03.459449Z"
    },
    "papermill": {
     "duration": 0.051898,
     "end_time": "2024-04-02T18:01:03.463499",
     "exception": false,
     "start_time": "2024-04-02T18:01:03.411601",
     "status": "completed"
    },
    "tags": []
   },
   "outputs": [
    {
     "data": {
      "text/html": [
       "<div>\n",
       "<style scoped>\n",
       "    .dataframe tbody tr th:only-of-type {\n",
       "        vertical-align: middle;\n",
       "    }\n",
       "\n",
       "    .dataframe tbody tr th {\n",
       "        vertical-align: top;\n",
       "    }\n",
       "\n",
       "    .dataframe thead th {\n",
       "        text-align: right;\n",
       "    }\n",
       "</style>\n",
       "<table border=\"1\" class=\"dataframe\">\n",
       "  <thead>\n",
       "    <tr style=\"text-align: right;\">\n",
       "      <th></th>\n",
       "      <th>Feature</th>\n",
       "      <th>Co-efficients</th>\n",
       "    </tr>\n",
       "  </thead>\n",
       "  <tbody>\n",
       "    <tr>\n",
       "      <th>0</th>\n",
       "      <td>Intercept</td>\n",
       "      <td>2.060463</td>\n",
       "    </tr>\n",
       "    <tr>\n",
       "      <th>1</th>\n",
       "      <td>housing_median_age</td>\n",
       "      <td>0.000000</td>\n",
       "    </tr>\n",
       "    <tr>\n",
       "      <th>2</th>\n",
       "      <td>total_rooms</td>\n",
       "      <td>0.000000</td>\n",
       "    </tr>\n",
       "    <tr>\n",
       "      <th>3</th>\n",
       "      <td>total_bedrooms</td>\n",
       "      <td>0.000000</td>\n",
       "    </tr>\n",
       "    <tr>\n",
       "      <th>4</th>\n",
       "      <td>population</td>\n",
       "      <td>0.000000</td>\n",
       "    </tr>\n",
       "    <tr>\n",
       "      <th>5</th>\n",
       "      <td>households</td>\n",
       "      <td>0.000000</td>\n",
       "    </tr>\n",
       "    <tr>\n",
       "      <th>6</th>\n",
       "      <td>median_income</td>\n",
       "      <td>0.000000</td>\n",
       "    </tr>\n",
       "    <tr>\n",
       "      <th>7</th>\n",
       "      <td>median_house_value</td>\n",
       "      <td>0.866874</td>\n",
       "    </tr>\n",
       "    <tr>\n",
       "      <th>8</th>\n",
       "      <td>ocean_proximity_encoded</td>\n",
       "      <td>0.000000</td>\n",
       "    </tr>\n",
       "  </tbody>\n",
       "</table>\n",
       "</div>"
      ],
      "text/plain": [
       "                   Feature  Co-efficients\n",
       "0                Intercept       2.060463\n",
       "1       housing_median_age       0.000000\n",
       "2              total_rooms       0.000000\n",
       "3           total_bedrooms       0.000000\n",
       "4               population       0.000000\n",
       "5               households       0.000000\n",
       "6            median_income       0.000000\n",
       "7       median_house_value       0.866874\n",
       "8  ocean_proximity_encoded       0.000000"
      ]
     },
     "execution_count": 28,
     "metadata": {},
     "output_type": "execute_result"
    }
   ],
   "source": [
    "coeff_df\n"
   ]
  },
  {
   "cell_type": "code",
   "execution_count": 29,
   "id": "52530e9a",
   "metadata": {
    "execution": {
     "iopub.execute_input": "2024-04-02T18:01:03.524166Z",
     "iopub.status.busy": "2024-04-02T18:01:03.523537Z",
     "iopub.status.idle": "2024-04-02T18:01:03.615045Z",
     "shell.execute_reply": "2024-04-02T18:01:03.613730Z"
    },
    "papermill": {
     "duration": 0.128955,
     "end_time": "2024-04-02T18:01:03.619072",
     "exception": false,
     "start_time": "2024-04-02T18:01:03.490117",
     "status": "completed"
    },
    "tags": []
   },
   "outputs": [],
   "source": [
    "# Generate predictions\n",
    "predictions = linearModel.transform(transformed_test)"
   ]
  },
  {
   "cell_type": "code",
   "execution_count": 30,
   "id": "90d5aa6f",
   "metadata": {
    "execution": {
     "iopub.execute_input": "2024-04-02T18:01:03.691248Z",
     "iopub.status.busy": "2024-04-02T18:01:03.690709Z",
     "iopub.status.idle": "2024-04-02T18:01:04.115924Z",
     "shell.execute_reply": "2024-04-02T18:01:04.114697Z"
    },
    "papermill": {
     "duration": 0.460524,
     "end_time": "2024-04-02T18:01:04.120303",
     "exception": false,
     "start_time": "2024-04-02T18:01:03.659779",
     "status": "completed"
    },
    "tags": []
   },
   "outputs": [
    {
     "name": "stdout",
     "output_type": "stream",
     "text": [
      "+------------------+------------------+\n",
      "|              pred|median_house_value|\n",
      "+------------------+------------------+\n",
      "|1.5588396370377424|              1.42|\n",
      "|0.9448089709665521|               0.6|\n",
      "|3.8651987242319703|               4.5|\n",
      "|2.5547674246897953|              2.75|\n",
      "|1.3267060925474143|              1.11|\n",
      "|2.2926811647813605|               2.4|\n",
      "| 2.068035799145559|               2.1|\n",
      "|2.1354294088362993|              2.19|\n",
      "|1.3341942714019412|              1.12|\n",
      "|1.5288869216196357|              1.38|\n",
      "|1.5887923524558494|              1.46|\n",
      "|1.7984613603825974|              1.74|\n",
      "|1.7235795718373301|              1.64|\n",
      "| 2.127941229981773|              2.18|\n",
      "| 4.239607666958307|               5.0|\n",
      "|2.1878466608179865|              2.26|\n",
      "|2.1054766934181925|              2.15|\n",
      "|1.3192179136928877|               1.1|\n",
      "|1.1919188731659336|              0.93|\n",
      "| 2.539791066980742|              2.73|\n",
      "+------------------+------------------+\n",
      "only showing top 20 rows\n",
      "\n"
     ]
    }
   ],
   "source": [
    "# Extract the predictions and the \"known\" correct labels\n",
    "predandlabels = predictions.select(\"pred\", \"median_house_value\")\n",
    "predandlabels.show()\n"
   ]
  },
  {
   "cell_type": "code",
   "execution_count": 31,
   "id": "75b085bc",
   "metadata": {
    "execution": {
     "iopub.execute_input": "2024-04-02T18:01:04.190169Z",
     "iopub.status.busy": "2024-04-02T18:01:04.189619Z",
     "iopub.status.idle": "2024-04-02T18:01:04.204512Z",
     "shell.execute_reply": "2024-04-02T18:01:04.202900Z"
    },
    "papermill": {
     "duration": 0.048064,
     "end_time": "2024-04-02T18:01:04.207222",
     "exception": false,
     "start_time": "2024-04-02T18:01:04.159158",
     "status": "completed"
    },
    "tags": []
   },
   "outputs": [
    {
     "name": "stdout",
     "output_type": "stream",
     "text": [
      "RMSE: 0.28580924780878697\n",
      "MAE: 0.2255867433658995\n",
      "R2: 0.9385169877178878\n"
     ]
    }
   ],
   "source": [
    "# Get the RMSE\n",
    "print(\"RMSE: {0}\".format(linearModel.summary.rootMeanSquaredError))\n",
    "print(\"MAE: {0}\".format(linearModel.summary.meanAbsoluteError))\n",
    "# Get the R2\n",
    "print(\"R2: {0}\".format(linearModel.summary.r2))"
   ]
  },
  {
   "cell_type": "code",
   "execution_count": 32,
   "id": "d8beab57",
   "metadata": {
    "execution": {
     "iopub.execute_input": "2024-04-02T18:01:04.265711Z",
     "iopub.status.busy": "2024-04-02T18:01:04.264603Z",
     "iopub.status.idle": "2024-04-02T18:01:04.833796Z",
     "shell.execute_reply": "2024-04-02T18:01:04.832634Z"
    },
    "papermill": {
     "duration": 0.601715,
     "end_time": "2024-04-02T18:01:04.836588",
     "exception": false,
     "start_time": "2024-04-02T18:01:04.234873",
     "status": "completed"
    },
    "tags": []
   },
   "outputs": [
    {
     "name": "stdout",
     "output_type": "stream",
     "text": [
      "RMSE: 0.2922438375373287\n"
     ]
    }
   ],
   "source": [
    "evaluator = RegressionEvaluator(predictionCol=\"pred\", labelCol='median_house_value', metricName='rmse')\n",
    "print(\"RMSE: {0}\".format(evaluator.evaluate(predandlabels)))"
   ]
  },
  {
   "cell_type": "code",
   "execution_count": 33,
   "id": "72754c47",
   "metadata": {
    "execution": {
     "iopub.execute_input": "2024-04-02T18:01:04.895545Z",
     "iopub.status.busy": "2024-04-02T18:01:04.894887Z",
     "iopub.status.idle": "2024-04-02T18:01:06.894871Z",
     "shell.execute_reply": "2024-04-02T18:01:06.893587Z"
    },
    "papermill": {
     "duration": 2.031803,
     "end_time": "2024-04-02T18:01:06.897567",
     "exception": false,
     "start_time": "2024-04-02T18:01:04.865764",
     "status": "completed"
    },
    "tags": []
   },
   "outputs": [
    {
     "data": {
      "text/plain": [
       "<Figure size 1000x600 with 0 Axes>"
      ]
     },
     "execution_count": 33,
     "metadata": {},
     "output_type": "execute_result"
    },
    {
     "data": {
      "text/plain": [
       "<matplotlib.collections.PathCollection at 0x78cbcd989f60>"
      ]
     },
     "execution_count": 33,
     "metadata": {},
     "output_type": "execute_result"
    },
    {
     "data": {
      "text/plain": [
       "[<matplotlib.lines.Line2D at 0x78cbcd98a4d0>]"
      ]
     },
     "execution_count": 33,
     "metadata": {},
     "output_type": "execute_result"
    },
    {
     "data": {
      "text/plain": [
       "Text(0.5, 0, 'Gerçek Etiketler')"
      ]
     },
     "execution_count": 33,
     "metadata": {},
     "output_type": "execute_result"
    },
    {
     "data": {
      "text/plain": [
       "Text(0, 0.5, 'Tahminler')"
      ]
     },
     "execution_count": 33,
     "metadata": {},
     "output_type": "execute_result"
    },
    {
     "data": {
      "text/plain": [
       "Text(0.5, 1.0, 'Gerçek Etiketler vs. Tahminler')"
      ]
     },
     "execution_count": 33,
     "metadata": {},
     "output_type": "execute_result"
    },
    {
     "data": {
      "image/png": "[encoded data removed]",
      "text/plain": [
       "<Figure size 1000x600 with 1 Axes>"
      ]
     },
     "metadata": {},
     "output_type": "display_data"
    },
    {
     "name": "stdout",
     "output_type": "stream",
     "text": [
      "RMSE: 0.2922438375373287\n"
     ]
    }
   ],
   "source": [
    "import matplotlib.pyplot as plt\n",
    "\n",
    "# Tahminler ve gerçek etiketlerle DataFrame oluşturma\n",
    "predandlabels = predictions.select(\"pred\", \"median_house_value\")\n",
    "\n",
    "# RMSE değerini hesaplama\n",
    "evaluator = RegressionEvaluator(predictionCol=\"pred\", labelCol='median_house_value', metricName='rmse')\n",
    "rmse = evaluator.evaluate(predandlabels)\n",
    "\n",
    "# Grafik çizimi için tahmin ve gerçek etiketleri bir listeye dönüştürme\n",
    "pred_values = [row['pred'] for row in predandlabels.collect()]\n",
    "label_values = [row['median_house_value'] for row in predandlabels.collect()]\n",
    "\n",
    "# Grafik çizimi\n",
    "plt.figure(figsize=(10, 6))\n",
    "plt.scatter(label_values, pred_values, color='blue')\n",
    "plt.plot([min(label_values), max(label_values)], [min(label_values), max(label_values)], linestyle='--', color='red')\n",
    "plt.xlabel('Gerçek Etiketler')\n",
    "plt.ylabel('Tahminler')\n",
    "plt.title('Gerçek Etiketler vs. Tahminler')\n",
    "plt.grid(True)\n",
    "plt.show()\n",
    "\n",
    "# RMSE değerini yazdırma\n",
    "print(\"RMSE:\", rmse)\n"
   ]
  },
  {
   "cell_type": "code",
   "execution_count": 34,
   "id": "1423aa77",
   "metadata": {
    "execution": {
     "iopub.execute_input": "2024-04-02T18:01:06.956557Z",
     "iopub.status.busy": "2024-04-02T18:01:06.956088Z",
     "iopub.status.idle": "2024-04-02T18:01:07.077741Z",
     "shell.execute_reply": "2024-04-02T18:01:07.076588Z"
    },
    "papermill": {
     "duration": 0.15404,
     "end_time": "2024-04-02T18:01:07.080636",
     "exception": false,
     "start_time": "2024-04-02T18:01:06.926596",
     "status": "completed"
    },
    "tags": []
   },
   "outputs": [],
   "source": [
    "spark.stop()"
   ]
  },
  {
   "cell_type": "code",
   "execution_count": null,
   "id": "a55cd69e",
   "metadata": {
    "papermill": {
     "duration": 0.028947,
     "end_time": "2024-04-02T18:01:07.138156",
     "exception": false,
     "start_time": "2024-04-02T18:01:07.109209",
     "status": "completed"
    },
    "tags": []
   },
   "outputs": [],
   "source": []
  }
 ],
 "metadata": {
  "kaggle": {
   "accelerator": "none",
   "dataSources": [
    {
     "datasetId": 5227,
     "sourceId": 7876,
     "sourceType": "datasetVersion"
    }
   ],
   "dockerImageVersionId": 30673,
   "isGpuEnabled": false,
   "isInternetEnabled": true,
   "language": "python",
   "sourceType": "notebook"
  },
  "kernelspec": {
   "display_name": "Python 3",
   "language": "python",
   "name": "python3"
  },
  "language_info": {
   "codemirror_mode": {
    "name": "ipython",
    "version": 3
   },
   "file_extension": ".py",
   "mimetype": "text/x-python",
   "name": "python",
   "nbconvert_exporter": "python",
   "pygments_lexer": "ipython3",
   "version": "3.10.13"
  },
  "papermill": {
   "default_parameters": {},
   "duration": 114.964853,
   "end_time": "2024-04-02T18:01:09.789571",
   "environment_variables": {},
   "exception": null,
   "input_path": "__notebook__.ipynb",
   "output_path": "__notebook__.ipynb",
   "parameters": {},
   "start_time": "2024-04-02T17:59:14.824718",
   "version": "2.5.0"
  }
 },
 "nbformat": 4,
 "nbformat_minor": 5
}
